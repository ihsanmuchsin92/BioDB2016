{
 "cells": [
  {
   "cell_type": "code",
   "execution_count": 1,
   "metadata": {
    "collapsed": false
   },
   "outputs": [],
   "source": [
    "#Ihsan Muchsin\n",
    "\n",
    "def revc(infile, outfile):\n",
    "    '''\n",
    "    Given: 1) A file containing a DNA string of length at most 1000 nucleotides. 2) Name for the output file\n",
    "    Return: The reverse complement of the given DNA string (plus an output file containing this)\n",
    "    '''\n",
    "    \n",
    "    rev_compl = \"\"\n",
    "    pair = {'A' : 'T', 'C' : 'G', 'G' : 'C', 'T' : 'A'} #Pair of DNA nucleotides\n",
    "    \n",
    "    dna = \"\"\n",
    "    with open(infile, 'r') as fin:\n",
    "        for line in fin: #loop through every line in input file and create a DNA string\n",
    "            line = line.strip()\n",
    "            dna += line\n",
    "            \n",
    "    for nucl in dna[::-1]: #read the DNA sequence backwards\n",
    "        rev_compl += pair[nucl]\n",
    "        \n",
    "    with open(outfile, 'w') as fout:\n",
    "        fout.write(rev_compl)\n",
    "    \n",
    "    return rev_compl"
   ]
  },
  {
   "cell_type": "code",
   "execution_count": 2,
   "metadata": {
    "collapsed": false
   },
   "outputs": [
    {
     "name": "stdout",
     "output_type": "stream",
     "text": [
      "GAGAAGACTGCAAAGCCCACTCGCAAAGTCTAGTGATGAAACGTCTATAAGGGGATAACTATGCCAACGCGTTGCGGTACTCTTTTGGAAACTAGCTCTAGGAACTCGGTGTCATACGCGGCGGTCGGCCTCAAATATACCCACCCGCAATAGCCTTTCACGTCTCCTAACCTTCAATCAGTGCTCAACTTAGTAACCTAGGGATCAATGAAGAGTTAAATCTTACTTTCAGCTACCTACATTGAACTGCAGCCTGTCCAGAACTTTTTACAGAGCTGTTAAACATGGGTGCGAAGTCCGGGCTGATCGTGGCAACCTGTCGTCCAATGATGAGGGTAGCACTGGGCGATCGTTTGGTCGGGACCCAGTTGTCGTTTATTAAGTAGAGAAAAGACCAGATTACGCCCCTGGACGCATATCCATTATTCATGTCCACGCTAAACTGGGAACTAACTGCATTTACCCACGGACCTTGTTTCCACGATCAGTGGAGTAAGAATGAGCAAGATTATTGTCACATTCGAGGCTTCGGATTTCGGCATCACTGTCGTTTATTCTAGACAAACCGTTGGTCTGGGCGTATGCAACTCTATCATCATGGCCCTAGAATGGTACTGTGTTCACGAGAGCGAATCTCACTGTAATTAAAATCACATCCCACTTGCGCGCCGGGTTCGATAGGGTTGGACGCGTTTTTTGACGCGCCACCACTTTCGCAGAGCACCTCACTGAAGGCTTATTGCGGCCTGAATCGCACCAGATGGAGGACCCTGCGCGAGCAAGTGGCGTCTCCATGAAAGATCCCTTACTTTTTACCAGCAAATTGTAGAGGGCGC\n"
     ]
    }
   ],
   "source": [
    "infile = 'rosalind_revc.txt'\n",
    "outfile = 'revc_sol.txt'\n",
    "\n",
    "res = revc(infile, outfile)\n",
    "print (res)"
   ]
  },
  {
   "cell_type": "code",
   "execution_count": null,
   "metadata": {
    "collapsed": true
   },
   "outputs": [],
   "source": []
  }
 ],
 "metadata": {
  "anaconda-cloud": {},
  "kernelspec": {
   "display_name": "Python [conda root]",
   "language": "python",
   "name": "conda-root-py"
  },
  "language_info": {
   "codemirror_mode": {
    "name": "ipython",
    "version": 3
   },
   "file_extension": ".py",
   "mimetype": "text/x-python",
   "name": "python",
   "nbconvert_exporter": "python",
   "pygments_lexer": "ipython3",
   "version": "3.5.2"
  }
 },
 "nbformat": 4,
 "nbformat_minor": 0
}
