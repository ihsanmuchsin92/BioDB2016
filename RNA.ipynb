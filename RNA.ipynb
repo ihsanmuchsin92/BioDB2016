{
 "cells": [
  {
   "cell_type": "code",
   "execution_count": 1,
   "metadata": {
    "collapsed": false
   },
   "outputs": [],
   "source": [
    "#Ihsan Muchsin\n",
    "\n",
    "def trans_DNA2RNA (infile, outfile):\n",
    "    '''\n",
    "    Given: 1) An input file containing a DNA string having length at most 1000 nucleotides. 2) Name of output file\n",
    "    Return: The transcribed RNA string of given DNA (plus an output file containing containing this).\n",
    "    '''\n",
    "    rna = \"\"\n",
    "    pair = {'A' : 'A', 'C' : 'C', 'G' : 'G', 'T' : 'U'} #pair of DNA nucleotides with corresponding RNA nucleotides\n",
    "    \n",
    "    dna = \"\"\n",
    "    with open(infile, 'r') as fin:\n",
    "        for line in fin: #loop through every line in input file and create a DNA string\n",
    "            line = line.strip()\n",
    "            dna += line\n",
    "        \n",
    "    for nucl in dna: #loop through every character in DNA string and get the corresponding RNA nucleotide\n",
    "        rna += pair[nucl]\n",
    "    \n",
    "    with open(outfile, 'w') as fout: #write the RNA string to output file\n",
    "        fout.write(rna)\n",
    "    \n",
    "    return rna"
   ]
  },
  {
   "cell_type": "code",
   "execution_count": 2,
   "metadata": {
    "collapsed": false
   },
   "outputs": [
    {
     "name": "stdout",
     "output_type": "stream",
     "text": [
      "UUGUAACCUCCAACAACCACCACCCCAGGGCCCCAAGUGGUACGUGGCGGCGCCUCUAUCACACUUGAUUUUACAAUACCCAGUCGUGCUUUAUUCACGUCGUGGAGCAGGACACCAGUCAGCUUCGAAAUUUUGCAACUUGAAUCGUCCUGUAUGGUUAUGAUAGAGCGCGCCCGUUUAGGUGAUGCUGAACGAGUCUCAGCCGAUAAAUCCAUGACUGUACUCCCUCUUAAUCUUGCGGCUGUUUCGUCCUCCUAGCUUAGAGAGCCUUUAGUAUGCGUCGUACACGUAGGCGGCAAGGGAAGAAAGGCGCUUUCCUGACCAGCGUUUUGUAUAUAACGCGACUGUGUUCCAAGGGUCAUGUCAAUAUGGGUGGGAGUUAGCGUUCGACUGUUUUCUCUCGGCGCCAUGAUGGACCAAGCCCCAUGUGGUCGUAAUCAGGAAGAGAACAAGGGCGAAUGCGACUGGACCUAAUCCCCCCCAGGGAUUGGCGGCCAUGUUAGGAUUGCGUUGUUGUGAGCAUAACGCAUUUCCACGAUUAUGGGACAGUGUGACCUACGAUAUGGCGCACUCUUAUCCUGGCCUCCAUACAAGCAUAACCGAGACGAAACUAAUCUCCUGGCCACACUGGAGAGUAGUAGUACUUAGGUCAAAGUACUUUCAUUUACUGUGGUAGGGGGUCGAAUCGUGGUGCUCAGUCUGCAAACGGGUCCUUGGGAUGUCAUAUCCUCUAAUUAUAUGAAUCUUUAUCAAUCCACCCAAAGUCACUACGAUUCGCUUCCUUACGUGAGGACGAGUCUAUGUAAGCCUAGAAUCGUGAAGAUAUCGCCUUAGGGCAACGGUACCCCGCCUCGCUGUAAGGGGCUGCCCCCUUAAUUAGAGCUGGCAACGAUGUGCGGACAGGACGCUGGCGAACGCCCAUUAGUUGCCACUAUCACGAAGGAGGGUGCCCGUCGGCCAAGUUGAA\n"
     ]
    }
   ],
   "source": [
    "infile = 'rosalind_rna.txt'\n",
    "outfile = 'rna_sol.txt'\n",
    "\n",
    "res = trans_DNA2RNA (infile, outfile)\n",
    "print (res)"
   ]
  },
  {
   "cell_type": "code",
   "execution_count": null,
   "metadata": {
    "collapsed": true
   },
   "outputs": [],
   "source": []
  }
 ],
 "metadata": {
  "anaconda-cloud": {},
  "kernelspec": {
   "display_name": "Python [conda root]",
   "language": "python",
   "name": "conda-root-py"
  },
  "language_info": {
   "codemirror_mode": {
    "name": "ipython",
    "version": 3
   },
   "file_extension": ".py",
   "mimetype": "text/x-python",
   "name": "python",
   "nbconvert_exporter": "python",
   "pygments_lexer": "ipython3",
   "version": "3.5.2"
  }
 },
 "nbformat": 4,
 "nbformat_minor": 0
}
