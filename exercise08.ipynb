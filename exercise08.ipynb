{
 "cells": [
  {
   "cell_type": "markdown",
   "metadata": {},
   "source": [
    "# Introduction\n",
    "\n",
    "This exercise makes use of the database you created in `Exercise02` and the BEL statement parsers you write with regular expressions in `Reading_searching_sending.ipynb`."
   ]
  },
  {
   "cell_type": "code",
   "execution_count": 1,
   "metadata": {
    "collapsed": false
   },
   "outputs": [
    {
     "data": {
      "text/plain": [
       "'Thu Oct  6 10:38:18 2016'"
      ]
     },
     "execution_count": 1,
     "metadata": {},
     "output_type": "execute_result"
    }
   ],
   "source": [
    "import pandas as pd\n",
    "import os, json, re, time\n",
    "time.asctime()"
   ]
  },
  {
   "cell_type": "code",
   "execution_count": 2,
   "metadata": {
    "collapsed": false
   },
   "outputs": [
    {
     "data": {
      "text/plain": [
       "'C:\\\\Users\\\\Ihsan Muchsin\\\\Documents\\\\GitHub\\\\bug-free-eureka'"
      ]
     },
     "execution_count": 2,
     "metadata": {},
     "output_type": "execute_result"
    }
   ],
   "source": [
    "base = os.path.join(os.environ['BUG_FREE_EUREKA_BASE'])\n",
    "base"
   ]
  },
  {
   "cell_type": "markdown",
   "metadata": {},
   "source": [
    "# Task 1\n",
    "\n",
    "This exercise is about loading the HGNC data to create a dictionary from HGNC symbols to set of enzyme ID's.\n",
    "\n",
    "## 1.1 Load Data\n",
    "\n",
    "Load json data from `/data/exercise02/hgnc_complete_set.json`."
   ]
  },
  {
   "cell_type": "code",
   "execution_count": 3,
   "metadata": {
    "collapsed": true
   },
   "outputs": [],
   "source": [
    "data_path = os.path.join(base, 'data', 'exercise02', 'hgnc_complete_set.json')\n",
    "with open(data_path) as f:\n",
    "    hgnc_json = json.load(f)"
   ]
  },
  {
   "cell_type": "markdown",
   "metadata": {},
   "source": [
    "## 1.2 Reorganize Data into `pd.DataFrame`\n",
    "\n",
    "Identify the relevant subdictionaries in your `dictionary -> response -> docs`. Load them to a data frame, \n",
    "then create a new data frame with just the HGNC symbol and Enzyme ID"
   ]
  },
  {
   "cell_type": "code",
   "execution_count": 4,
   "metadata": {
    "collapsed": false
   },
   "outputs": [
    {
     "data": {
      "text/plain": [
       "['_version_',\n",
       " 'alias_name',\n",
       " 'alias_symbol',\n",
       " 'bioparadigms_slc',\n",
       " 'ccds_id',\n",
       " 'cd',\n",
       " 'cosmic',\n",
       " 'date_approved_reserved',\n",
       " 'date_modified',\n",
       " 'date_name_changed',\n",
       " 'date_symbol_changed',\n",
       " 'ena',\n",
       " 'ensembl_gene_id',\n",
       " 'entrez_id',\n",
       " 'enzyme_id',\n",
       " 'gene_family',\n",
       " 'gene_family_id',\n",
       " 'hgnc_id',\n",
       " 'homeodb',\n",
       " 'horde_id',\n",
       " 'imgt',\n",
       " 'intermediate_filament_db',\n",
       " 'iuphar',\n",
       " 'kznf_gene_catalog',\n",
       " 'lncrnadb',\n",
       " 'location',\n",
       " 'location_sortable',\n",
       " 'locus_group',\n",
       " 'locus_type',\n",
       " 'lsdb',\n",
       " 'mamit-trnadb',\n",
       " 'merops',\n",
       " 'mgd_id',\n",
       " 'mirbase',\n",
       " 'name',\n",
       " 'omim_id',\n",
       " 'orphanet',\n",
       " 'prev_name',\n",
       " 'prev_symbol',\n",
       " 'pseudogene.org',\n",
       " 'pubmed_id',\n",
       " 'refseq_accession',\n",
       " 'rgd_id',\n",
       " 'snornabase',\n",
       " 'status',\n",
       " 'symbol',\n",
       " 'ucsc_id',\n",
       " 'uniprot_ids',\n",
       " 'uuid',\n",
       " 'vega_id']"
      ]
     },
     "execution_count": 4,
     "metadata": {},
     "output_type": "execute_result"
    }
   ],
   "source": [
    "docs = hgnc_json['response']['docs']\n",
    "\n",
    "df_hgnc = pd.DataFrame(docs)\n",
    "list(df_hgnc.columns)"
   ]
  },
  {
   "cell_type": "markdown",
   "metadata": {},
   "source": [
    "## 1.3 Build dictionary for lookup\n",
    "\n",
    "Iterate over this dataframe to build a dictionary that is `{hgnc symbol: set of enzyme id's}`. Call this dictionary `symbol2ec`"
   ]
  },
  {
   "cell_type": "code",
   "execution_count": 5,
   "metadata": {
    "collapsed": false
   },
   "outputs": [
    {
     "data": {
      "text/html": [
       "<div>\n",
       "<table border=\"1\" class=\"dataframe\">\n",
       "  <thead>\n",
       "    <tr style=\"text-align: right;\">\n",
       "      <th></th>\n",
       "      <th>symbol</th>\n",
       "      <th>enzyme_id</th>\n",
       "    </tr>\n",
       "  </thead>\n",
       "  <tbody>\n",
       "    <tr>\n",
       "      <th>0</th>\n",
       "      <td>A1BG</td>\n",
       "      <td>NaN</td>\n",
       "    </tr>\n",
       "    <tr>\n",
       "      <th>1</th>\n",
       "      <td>A1BG-AS1</td>\n",
       "      <td>NaN</td>\n",
       "    </tr>\n",
       "    <tr>\n",
       "      <th>2</th>\n",
       "      <td>A1CF</td>\n",
       "      <td>NaN</td>\n",
       "    </tr>\n",
       "    <tr>\n",
       "      <th>3</th>\n",
       "      <td>A2M</td>\n",
       "      <td>NaN</td>\n",
       "    </tr>\n",
       "    <tr>\n",
       "      <th>4</th>\n",
       "      <td>A2M-AS1</td>\n",
       "      <td>NaN</td>\n",
       "    </tr>\n",
       "    <tr>\n",
       "      <th>5</th>\n",
       "      <td>A2ML1</td>\n",
       "      <td>NaN</td>\n",
       "    </tr>\n",
       "    <tr>\n",
       "      <th>6</th>\n",
       "      <td>A2ML1-AS1</td>\n",
       "      <td>NaN</td>\n",
       "    </tr>\n",
       "    <tr>\n",
       "      <th>7</th>\n",
       "      <td>A2ML1-AS2</td>\n",
       "      <td>NaN</td>\n",
       "    </tr>\n",
       "    <tr>\n",
       "      <th>8</th>\n",
       "      <td>A2MP1</td>\n",
       "      <td>NaN</td>\n",
       "    </tr>\n",
       "    <tr>\n",
       "      <th>9</th>\n",
       "      <td>A3GALT2</td>\n",
       "      <td>NaN</td>\n",
       "    </tr>\n",
       "  </tbody>\n",
       "</table>\n",
       "</div>"
      ],
      "text/plain": [
       "      symbol enzyme_id\n",
       "0       A1BG       NaN\n",
       "1   A1BG-AS1       NaN\n",
       "2       A1CF       NaN\n",
       "3        A2M       NaN\n",
       "4    A2M-AS1       NaN\n",
       "5      A2ML1       NaN\n",
       "6  A2ML1-AS1       NaN\n",
       "7  A2ML1-AS2       NaN\n",
       "8      A2MP1       NaN\n",
       "9    A3GALT2       NaN"
      ]
     },
     "execution_count": 5,
     "metadata": {},
     "output_type": "execute_result"
    }
   ],
   "source": [
    "df_hgnc[['symbol', 'enzyme_id']].head(10)"
   ]
  },
  {
   "cell_type": "code",
   "execution_count": 6,
   "metadata": {
    "collapsed": false
   },
   "outputs": [],
   "source": [
    "symbol2ec = {}\n",
    "\n",
    "df_hgnc_sliced = df_hgnc[['symbol', 'enzyme_id']]\n",
    "\n",
    "for idx, symbol, enzyme_ids in df_hgnc_sliced.itertuples():\n",
    "    if isinstance(enzyme_ids, list):\n",
    "        symbol2ec[symbol] = enzyme_ids\n",
    "    else:\n",
    "        symbol2ec[symbol] = None"
   ]
  },
  {
   "cell_type": "code",
   "execution_count": null,
   "metadata": {
    "collapsed": true
   },
   "outputs": [],
   "source": []
  },
  {
   "cell_type": "markdown",
   "metadata": {},
   "source": [
    "# Task 2\n",
    "\n",
    "This subexercise is about validating protein and kinase activity statements in BEL. Refer to last Thursday's work in `Reading_searching_sending.ipynb`."
   ]
  },
  {
   "cell_type": "markdown",
   "metadata": {},
   "source": [
    "## 2.1 Valid HGNC\n",
    "\n",
    "Write a function, `valid_hgnc(hgnc_symbol, symbol2ec_instance)` that takes a name and the dictionary from Task 1.3 and returns whether this is a valid name"
   ]
  },
  {
   "cell_type": "code",
   "execution_count": 7,
   "metadata": {
    "collapsed": false
   },
   "outputs": [],
   "source": [
    "def valid_hgnc(hgnc_symbol, symbol2ec_instance):\n",
    "    return (hgnc_symbol in symbol2ec_instance)\n",
    "\n",
    "assert valid_hgnc('AKT1', symbol2ec)\n",
    "assert not valid_hgnc('TUKU', symbol2ec)"
   ]
  },
  {
   "cell_type": "markdown",
   "metadata": {},
   "source": [
    "## 2.2 Valid Kinase Activity\n",
    "\n",
    "Write a function, `valid_kinase(hgnc_symbol, symbol2ec_instance)` that takes a name and the dictionary from Task 1.3 and returns whether this protein has kinase activity. Hint: an enzyme code reference can be found [here](http://brenda-enzymes.org/ecexplorer.php?browser=1&f[nodes]=132&f[action]=open&f[change]=153)"
   ]
  },
  {
   "cell_type": "code",
   "execution_count": 8,
   "metadata": {
    "collapsed": false
   },
   "outputs": [
    {
     "name": "stdout",
     "output_type": "stream",
     "text": [
      "True\n",
      "False\n",
      "False\n"
     ]
    }
   ],
   "source": [
    "def valid_kinase(hgnc_symbol, symbol2ec_instance):\n",
    "    res = []\n",
    "    \n",
    "    if not valid_hgnc(hgnc_symbol, symbol2ec_instance):\n",
    "        return False\n",
    "    \n",
    "    enzyme_ids = symbol2ec_instance[hgnc_symbol]\n",
    "    if enzyme_ids:\n",
    "        for enzyme_id in enzyme_ids:\n",
    "            if isinstance(enzyme_id, str):\n",
    "                idx = [int(i) for i in enzyme_id.split('.')]   \n",
    "                res.append(idx[0] == 2 and idx[1] == 7)      \n",
    "            return (True in res)\n",
    "    \n",
    "    return False\n",
    "\n",
    "print (valid_kinase('AKT1', symbol2ec))\n",
    "print (valid_kinase('ASALAJA', symbol2ec))\n",
    "print (valid_kinase('AADAT', symbol2ec))"
   ]
  },
  {
   "cell_type": "markdown",
   "metadata": {},
   "source": [
    "## 2.3 Putting it all together\n",
    "\n",
    "Write a function, `validate_bel_term(term, symbol2ec_instance)` that parses a BEL term about either a protein, or the kinase activity of a protein and validates it.\n",
    "\n",
    "```python\n",
    "def validate_bel_term(term, symbol2ec_instance):\n",
    "    pass\n",
    "```\n",
    "\n",
    "### Examples\n",
    "\n",
    "```python\n",
    ">>> # check that the proteins have valid HGNC codes\n",
    ">>> validate_bel_term('p(HGNC:APP)', symbol2ec)\n",
    "True\n",
    ">>> validate_bel_term('p(HGNC:ABCDEF)', symbol2ec)\n",
    "False\n",
    ">>> # check that kinase activity annotations are only on proteins that are\n",
    ">>> # actually protein kinases (hint: check EC annotation)\n",
    ">>> validate_bel_term('kin(p(HGNC:APP))', symbol2ec)\n",
    "False\n",
    ">>> validate_bel_term('kin(p(HGNC:AKT1))', symbol2ec)\n",
    "True\n",
    "```"
   ]
  },
  {
   "cell_type": "code",
   "execution_count": 9,
   "metadata": {
    "collapsed": false
   },
   "outputs": [
    {
     "name": "stdout",
     "output_type": "stream",
     "text": [
      "True\n",
      "False\n",
      "False\n",
      "True\n"
     ]
    }
   ],
   "source": [
    "def validate_bel_term(term, symbol2ec_instance):\n",
    "    prot_pattern_def = '^p\\(([A-Z]+):([a-zA-Z0-9]+)\\)'\n",
    "    kin_pattern_def = '^kin\\(([a-z])\\(([A-Z]+):([a-zA-Z0-9]+)\\)\\)'\n",
    "    prot_pattern = re.compile(prot_pattern_def)\n",
    "    kin_pattern = re.compile(kin_pattern_def)\n",
    "    if prot_pattern.match(term):\n",
    "        result = prot_pattern.match(term).groups()\n",
    "        return valid_hgnc(result[1], symbol2ec_instance)\n",
    "    elif kin_pattern.match(term):\n",
    "        result = kin_pattern.match(term).groups()\n",
    "        return valid_kinase(result[2], symbol2ec_instance)\n",
    "    return False\n",
    "\n",
    "print (validate_bel_term('p(HGNC:APP)', symbol2ec))\n",
    "print (validate_bel_term('p(HGNC:ABCDEF)', symbol2ec))\n",
    "print (validate_bel_term('kin(p(HGNC:APP))', symbol2ec))\n",
    "print (validate_bel_term('kin(p(HGNC:AKT1))', symbol2ec))\n",
    "    "
   ]
  },
  {
   "cell_type": "markdown",
   "metadata": {},
   "source": [
    "# Task 3\n",
    "\n",
    "This task is about manual curation of text. You will be guided through translating the following text into BEL statements as strings within a python list.\n",
    "\n",
    "## Document Definitions\n",
    "\n",
    "Recall citations are written with source, title, then identifier as follows:\n",
    "\n",
    "```\n",
    "SET Citation = {\"PubMed\", \"Nat Cell Biol 2007 Mar 9(3) 316-23\", \"17277771\"}\n",
    "```\n",
    "\n",
    "Use these annotations and these namespaces:\n",
    "\n",
    "```\n",
    "DEFINE NAMESPACE HGNC AS URL \"http://resource.belframework.org/belframework/20131211/namespace/hgnc-human-genes.belns\"\n",
    "\n",
    "DEFINE ANNOTATION CellLocation as LIST {\"cell nucleus\", \"cytoplasm\", \"endoplasmic reticulum\"}\n",
    "```\n",
    "\n",
    "\n",
    "## Source Text\n",
    "\n",
    "> The following statements are from the document \"BEL Exercise\" in edition 00001 of the PyBEL Journal.\n",
    "> The kinase activity of A causes the increased abundance of AKT serine/threonine kinase 1 and AKT serine/threonine kinase 2 in the cytoplasm, \n",
    "> but only the increased expression of AKT serine/threonine kinase 1 in the endoplasmic reticulum. \n",
    "> Additionally, the abundance of AKT serine/threonine kinase 1 and AKT serine/threonine kinase 2 were found to be postively correlated in the cell nuclei.\n",
    "> AKT serine/threonine kinase 2 increases GSK3 Beta in all of the nuclei, cyoplasm, and ER."
   ]
  },
  {
   "cell_type": "code",
   "execution_count": 10,
   "metadata": {
    "collapsed": true
   },
   "outputs": [],
   "source": [
    "definition_statements = [\n",
    "    'SET DOCUMENT name = \"BEL Exercise\"'\n",
    "    'DEFINE NAMESPACE HGNC AS URL \"http://resource.belframework.org/belframework/20131211/namespace/hgnc-human-genes.belns\"',\n",
    "    'DEFINE ANNOTATION CellLocation AS LIST {\"cell nucleus\", \"cytoplasm\", \"endoplasmic reticulum\"}',\n",
    "]"
   ]
  },
  {
   "cell_type": "code",
   "execution_count": 11,
   "metadata": {
    "collapsed": true
   },
   "outputs": [],
   "source": [
    "# hint: there should be 11 statements from this text\n",
    "your_statements = [\n",
    "    'SET Citation = {\"PyBEL Journal\", \"BEL Exercise\", \"00001\"}',\n",
    "    'SET Evidence = \"The following statements are from the document \"BEL Exercise\" in edition 00001 of the PyBEL Journal. The kinase activity of A causes the increased abundance of AKT serine/threonine kinase 1 and AKT serine/threonine kinase 2 in the cytoplasm, but only the increased expression of AKT serine/threonine kinase 1 in the endoplasmic reticulum. Additionally, the abundance of AKT serine/threonine kinase 1 and AKT serine/threonine kinase 2 were found to be postively correlated in the cell nuclei. AKT serine/threonine kinase 2 increases GSK3 Beta in all of the nuclei, cyoplasm, and ER\"',\n",
    "    'SET CellLocation = \"cytoplasm\"',\n",
    "    'kin(p(HGNC:PIK3CA)) increases p(HGNC:AKT1)',\n",
    "    'kin(p(HGNC:PIK3CA)) increases p(HGNC:AKT2)',\n",
    "    'UNSET CellLocation',\n",
    "    'SET CellLocation = \"endoplasmic reticulum\"',\n",
    "    'kin(p(HGNC:PIK3CA)) increases p(HGNC:AKT1)',\n",
    "    'UNSET CellLocation',\n",
    "    'SET CellLocation = \"cell nucleus\"',\n",
    "    'p(HGNC:AKT1) positiveCorrelation p(HGNC:AKT2)',\n",
    "    'UNSET CellLocation',\n",
    "    'SET {\"endoplasmic reticulum\",\"cell nucleus\",\"cyoplasm\"}',\n",
    "    'p(HGNC:AKT2) increases p(HGNC:GSK3B)',\n",
    "    'UNSET CellLocation',\n",
    "    'UNSET Evidence',\n",
    "    'UNSET Citation'\n",
    "]"
   ]
  },
  {
   "cell_type": "code",
   "execution_count": 12,
   "metadata": {
    "collapsed": true
   },
   "outputs": [],
   "source": [
    "statements = definition_statements + your_statements"
   ]
  },
  {
   "cell_type": "code",
   "execution_count": 13,
   "metadata": {
    "collapsed": false
   },
   "outputs": [
    {
     "name": "stdout",
     "output_type": "stream",
     "text": [
      "['DEFINE', 'ANNOTATION', 'CellLocation', 'AS', 'LIST', '{\"cell', 'nucleus\",', '\"cytoplasm\",', '\"endoplasmic', 'reticulum\"}']\n",
      "['kin(p(HGNC:PIK3CA))', 'increases', 'p(HGNC:AKT1)']\n",
      "['kin(p(HGNC:PIK3CA))', 'increases', 'p(HGNC:AKT2)']\n",
      "['kin(p(HGNC:PIK3CA))', 'increases', 'p(HGNC:AKT1)']\n",
      "['p(HGNC:AKT1)', 'positiveCorrelation', 'p(HGNC:AKT2)']\n",
      "['p(HGNC:AKT2)', 'increases', 'p(HGNC:GSK3B)']\n"
     ]
    }
   ],
   "source": [
    "for statement in statements:\n",
    "    if not (statement.startswith('SET') or statement.startswith('UNSET')):\n",
    "        elem_ls = [statement.split(' ')]\n",
    "        print (*elem_ls)"
   ]
  },
  {
   "cell_type": "markdown",
   "metadata": {},
   "source": [
    "# Task 4\n",
    "\n",
    "This task is again about regular expressions. Return to `Reading_searching_sending.ipynb` and find your regular expressions that parse the subject, predicate, and object from a statement like `p(HGNC:AKT1) pos p(HGNC:AKT2)`\n",
    "\n",
    "## 4.1 Validating Statements\n",
    "\n",
    "Write a function `validate_bel_statement(statement, symbol2ec)` that takes a subject, predicate, object BEL statement as a string and determines if it its subject and objects are valid."
   ]
  },
  {
   "cell_type": "code",
   "execution_count": 14,
   "metadata": {
    "collapsed": true
   },
   "outputs": [],
   "source": [
    "def validate_bel_statement(statement, symbol2ec):\n",
    "    if not (statement.startswith('SET') or statement.startswith('UNSET') or statement.startswith('DEFINE')):\n",
    "        elem_ls = statement.split(' ')\n",
    "        return (validate_bel_term(elem_ls[0], symbol2ec) and validate_bel_term(elem_ls[2], symbol2ec))"
   ]
  },
  {
   "cell_type": "markdown",
   "metadata": {},
   "source": [
    "## 4.2 Validating Your Statements\n",
    "\n",
    "Run this cell to validate the BEL statements you've written."
   ]
  },
  {
   "cell_type": "code",
   "execution_count": 15,
   "metadata": {
    "collapsed": false
   },
   "outputs": [
    {
     "name": "stdout",
     "output_type": "stream",
     "text": [
      "SET Citation = {\"PyBEL Journal\", \"BEL Exercise\", \"00001\"} is invalid\n",
      "SET Evidence = \"The following statements are from the document \"BEL Exercise\" in edition 00001 of the PyBEL Journal. The kinase activity of A causes the increased abundance of AKT serine/threonine kinase 1 and AKT serine/threonine kinase 2 in the cytoplasm, but only the increased expression of AKT serine/threonine kinase 1 in the endoplasmic reticulum. Additionally, the abundance of AKT serine/threonine kinase 1 and AKT serine/threonine kinase 2 were found to be postively correlated in the cell nuclei. AKT serine/threonine kinase 2 increases GSK3 Beta in all of the nuclei, cyoplasm, and ER\" is invalid\n",
      "SET CellLocation = \"cytoplasm\" is invalid\n",
      "kin(p(HGNC:PIK3CA)) increases p(HGNC:AKT1) is valid\n",
      "kin(p(HGNC:PIK3CA)) increases p(HGNC:AKT2) is valid\n",
      "UNSET CellLocation is invalid\n",
      "SET CellLocation = \"endoplasmic reticulum\" is invalid\n",
      "kin(p(HGNC:PIK3CA)) increases p(HGNC:AKT1) is valid\n",
      "UNSET CellLocation is invalid\n",
      "SET CellLocation = \"cell nucleus\" is invalid\n",
      "p(HGNC:AKT1) positiveCorrelation p(HGNC:AKT2) is valid\n",
      "UNSET CellLocation is invalid\n",
      "SET {\"endoplasmic reticulum\",\"cell nucleus\",\"cyoplasm\"} is invalid\n",
      "p(HGNC:AKT2) increases p(HGNC:GSK3B) is valid\n",
      "UNSET CellLocation is invalid\n",
      "UNSET Evidence is invalid\n",
      "UNSET Citation is invalid\n"
     ]
    }
   ],
   "source": [
    "for statement in your_statements:\n",
    "    valid = validate_bel_statement(statement, symbol2ec)\n",
    "    print('{} is {}valid'.format(statement, '' if valid else 'in'))"
   ]
  },
  {
   "cell_type": "markdown",
   "metadata": {},
   "source": [
    "## 4.3 Visualization\n",
    "\n",
    "Use `pybel` to visualize the network."
   ]
  },
  {
   "cell_type": "code",
   "execution_count": 17,
   "metadata": {
    "collapsed": false
   },
   "outputs": [
    {
     "name": "stdout",
     "output_type": "stream",
     "text": [
      "PyBEL not installed\n"
     ]
    }
   ],
   "source": [
    "try:\n",
    "    import pybel\n",
    "    import networkx\n",
    "    \n",
    "    g = pybel.from_bel(statements)\n",
    "    nx.draw_spring(g, with_labels=True)\n",
    "except:\n",
    "    print('PyBEL not installed')"
   ]
  },
  {
   "cell_type": "code",
   "execution_count": null,
   "metadata": {
    "collapsed": true
   },
   "outputs": [],
   "source": []
  }
 ],
 "metadata": {
  "anaconda-cloud": {},
  "kernelspec": {
   "display_name": "Python [Root]",
   "language": "python",
   "name": "Python [Root]"
  },
  "language_info": {
   "codemirror_mode": {
    "name": "ipython",
    "version": 3
   },
   "file_extension": ".py",
   "mimetype": "text/x-python",
   "name": "python",
   "nbconvert_exporter": "python",
   "pygments_lexer": "ipython3",
   "version": "3.5.2"
  }
 },
 "nbformat": 4,
 "nbformat_minor": 1
}
