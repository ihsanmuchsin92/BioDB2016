{
 "cells": [
  {
   "cell_type": "code",
   "execution_count": 1,
   "metadata": {
    "collapsed": true
   },
   "outputs": [],
   "source": [
    "#Ihsan Muchsin\n",
    "#Using BioPython module\n",
    "\n",
    "from Bio.SeqUtils.CodonUsage import SynonymousCodons\n",
    "from Bio.SeqUtils import seq1\n",
    "\n",
    "def mrna(infile, outfile):\n",
    "    '''\n",
    "    Given: 1) An input file containing a protein string of length at most 1000 aa. 2) The name of output file.\n",
    "    Return: The total number of different RNA strings from which the protein could have been translated, modulo 1,000,000. Plus an output file containing the result.\n",
    "    '''\n",
    "    \n",
    "    with open(infile, 'r') as fin:\n",
    "        protein = fin.readline().strip()\n",
    "    \n",
    "    aa_prob = {} #the number of possible codons for each aa\n",
    "    for key in SynonymousCodons.keys():\n",
    "        aa_prob[seq1(key)] = len(SynonymousCodons[key]) #seq1 converts three letter codes/codons to one letter/amino acids\n",
    "        \n",
    "    poss_rna = 1\n",
    "    for aa in protein:\n",
    "        poss_rna *= aa_prob[aa]\n",
    "        \n",
    "    res = poss_rna * 3 % 1000000 #times 3 as there are 3 possible stop codons\n",
    "    \n",
    "    with open(outfile, 'w') as fout:\n",
    "        fout.write(str(res))\n",
    "    \n",
    "    return res"
   ]
  },
  {
   "cell_type": "code",
   "execution_count": 2,
   "metadata": {
    "collapsed": false
   },
   "outputs": [
    {
     "name": "stdout",
     "output_type": "stream",
     "text": [
      "894144\n"
     ]
    }
   ],
   "source": [
    "infile = 'rosalind_mrna.txt'\n",
    "outfile = 'mrna_sol.txt'\n",
    "\n",
    "res = mrna(infile, outfile)\n",
    "print(res)"
   ]
  },
  {
   "cell_type": "code",
   "execution_count": null,
   "metadata": {
    "collapsed": true
   },
   "outputs": [],
   "source": []
  }
 ],
 "metadata": {
  "anaconda-cloud": {},
  "kernelspec": {
   "display_name": "Python [Root]",
   "language": "python",
   "name": "Python [Root]"
  },
  "language_info": {
   "codemirror_mode": {
    "name": "ipython",
    "version": 3
   },
   "file_extension": ".py",
   "mimetype": "text/x-python",
   "name": "python",
   "nbconvert_exporter": "python",
   "pygments_lexer": "ipython3",
   "version": "3.5.2"
  }
 },
 "nbformat": 4,
 "nbformat_minor": 0
}
