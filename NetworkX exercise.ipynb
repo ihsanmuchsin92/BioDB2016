{
 "cells": [
  {
   "cell_type": "markdown",
   "metadata": {},
   "source": [
    "# NetworkX exercise "
   ]
  },
  {
   "cell_type": "code",
   "execution_count": 1,
   "metadata": {
    "collapsed": false
   },
   "outputs": [],
   "source": [
    "%matplotlib inline\n",
    "import networkx as nx\n",
    "import vis_bel\n",
    "import os\n",
    "import pickle\n",
    "import imp\n",
    "import numpy as np\n",
    "import itertools as itt"
   ]
  },
  {
   "cell_type": "code",
   "execution_count": 2,
   "metadata": {
    "collapsed": true
   },
   "outputs": [],
   "source": [
    "base = os.environ['BUG_FREE_EUREKA_BASE']\n",
    "path_networkx_AD_pickled =os.path.join(base,'data','exercise05','networkx.graph.AD.pickled')"
   ]
  },
  {
   "cell_type": "markdown",
   "metadata": {},
   "source": [
    "## Loading Alzheimer's disease network into networkX graph with pickle"
   ]
  },
  {
   "cell_type": "code",
   "execution_count": 3,
   "metadata": {
    "collapsed": false
   },
   "outputs": [],
   "source": [
    "graph_AD = pickle.load(open(path_networkx_AD_pickled,'rb'))"
   ]
  },
  {
   "cell_type": "markdown",
   "metadata": {},
   "source": [
    "Here some words about [pickle](https://docs.python.org/3/library/pickle.html)"
   ]
  },
  {
   "cell_type": "markdown",
   "metadata": {},
   "source": [
    "### Explore"
   ]
  },
  {
   "cell_type": "code",
   "execution_count": 4,
   "metadata": {
    "collapsed": false
   },
   "outputs": [
    {
     "data": {
      "text/plain": [
       "(11927, 11927, 11927)"
      ]
     },
     "execution_count": 4,
     "metadata": {},
     "output_type": "execute_result"
    }
   ],
   "source": [
    "len(graph_AD),len(graph_AD.nodes()), graph_AD.number_of_nodes()  # number of nodes"
   ]
  },
  {
   "cell_type": "code",
   "execution_count": 5,
   "metadata": {
    "collapsed": false
   },
   "outputs": [
    {
     "data": {
      "text/plain": [
       "59408"
      ]
     },
     "execution_count": 5,
     "metadata": {},
     "output_type": "execute_result"
    }
   ],
   "source": [
    "graph_AD.number_of_edges() # number of nodes"
   ]
  },
  {
   "cell_type": "code",
   "execution_count": 6,
   "metadata": {
    "collapsed": false
   },
   "outputs": [
    {
     "data": {
      "text/plain": [
       "{2: {0: {'Subgraph': ('Non-amyloidogenic pathway', 'Gamma secretase pathway'),\n",
       "   'citation': ('Other', 'Connectors', '123'),\n",
       "   'evidence': 'The statements inside this citation is included to connect two entity types or triples, which will exist as islands/subnetworks in the big model.',\n",
       "   'object_activity': 'act',\n",
       "   'rel': 'decreases'},\n",
       "  1: {'DiseaseState': ('Mild AD',),\n",
       "   'FDASTATUS': ('Phase 3',),\n",
       "   'Subgraph': ('Notch pathway', 'Gamma secretase pathway'),\n",
       "   'citation': ('PubMed', 'Curr Med Chem. 2011;18(35):5430-47', '22087836'),\n",
       "   'evidence': 'gamma-Secretase inhibitor believed to be associated with the inhibition of the cleavage of Notch, a transmembrane receptor involved in regulating cell-fate decisions.',\n",
       "   'object_activity': 'pep',\n",
       "   'rel': 'decreases'}},\n",
       " 1828: {0: {'DiseaseState': ('Mild AD',),\n",
       "   'FDASTATUS': ('Phase 3',),\n",
       "   'Subgraph': ('Notch pathway', 'Gamma secretase pathway'),\n",
       "   'citation': ('PubMed', 'Curr Med Chem. 2011;18(35):5430-47', '22087836'),\n",
       "   'evidence': 'gamma-Secretase inhibitor believed to be associated with the inhibition of the cleavage of Notch, a transmembrane receptor involved in regulating cell-fate decisions.',\n",
       "   'rel': 'decreases'}}}"
      ]
     },
     "execution_count": 6,
     "metadata": {},
     "output_type": "execute_result"
    }
   ],
   "source": [
    "graph_AD[1] # node 1 connections with edge information"
   ]
  },
  {
   "cell_type": "code",
   "execution_count": 7,
   "metadata": {
    "collapsed": false
   },
   "outputs": [
    {
     "data": {
      "text/plain": [
       "dict_keys([2, 1828])"
      ]
     },
     "execution_count": 7,
     "metadata": {},
     "output_type": "execute_result"
    }
   ],
   "source": [
    "graph_AD[1].keys() # nodes ids connected to node 1 "
   ]
  },
  {
   "cell_type": "code",
   "execution_count": 8,
   "metadata": {
    "collapsed": false
   },
   "outputs": [
    {
     "data": {
      "text/plain": [
       "dict_keys([0, 1])"
      ]
     },
     "execution_count": 8,
     "metadata": {},
     "output_type": "execute_result"
    }
   ],
   "source": [
    "graph_AD[1][2].keys()"
   ]
  },
  {
   "cell_type": "code",
   "execution_count": 9,
   "metadata": {
    "collapsed": false
   },
   "outputs": [
    {
     "data": {
      "text/plain": [
       "'decreases'"
      ]
     },
     "execution_count": 9,
     "metadata": {},
     "output_type": "execute_result"
    }
   ],
   "source": [
    "graph_AD[1][2][0].get('rel')"
   ]
  },
  {
   "cell_type": "code",
   "execution_count": 10,
   "metadata": {
    "collapsed": false
   },
   "outputs": [
    {
     "data": {
      "text/plain": [
       "[1, 2]"
      ]
     },
     "execution_count": 10,
     "metadata": {},
     "output_type": "execute_result"
    }
   ],
   "source": [
    "graph_AD.nodes()[:2] # all nodes"
   ]
  },
  {
   "cell_type": "code",
   "execution_count": 11,
   "metadata": {
    "collapsed": false
   },
   "outputs": [
    {
     "data": {
      "text/plain": [
       "[(1,\n",
       "  {'BEL': 'a(CHEBI:\"gamma-secretase inhibitor\")',\n",
       "   'function': 'a',\n",
       "   'namespace': 'CHEBI',\n",
       "   'value': 'gamma-secretase inhibitor'}),\n",
       " (2,\n",
       "  {'BEL': 'complex(SCOMP:\"gamma Secretase Complex\")',\n",
       "   'function': 'complex',\n",
       "   'namespace': 'SCOMP',\n",
       "   'value': '\"gamma Secretase Complex\"'})]"
      ]
     },
     "execution_count": 11,
     "metadata": {},
     "output_type": "execute_result"
    }
   ],
   "source": [
    "graph_AD.nodes(data=True)[:2]"
   ]
  },
  {
   "cell_type": "code",
   "execution_count": 12,
   "metadata": {
    "collapsed": false
   },
   "outputs": [
    {
     "data": {
      "text/plain": [
       "[(1, 2), (1, 2)]"
      ]
     },
     "execution_count": 12,
     "metadata": {},
     "output_type": "execute_result"
    }
   ],
   "source": [
    "graph_AD.edges()[:2]"
   ]
  },
  {
   "cell_type": "code",
   "execution_count": 13,
   "metadata": {
    "collapsed": false
   },
   "outputs": [
    {
     "data": {
      "text/plain": [
       "[(1,\n",
       "  2,\n",
       "  0,\n",
       "  {'Subgraph': ('Non-amyloidogenic pathway', 'Gamma secretase pathway'),\n",
       "   'citation': ('Other', 'Connectors', '123'),\n",
       "   'evidence': 'The statements inside this citation is included to connect two entity types or triples, which will exist as islands/subnetworks in the big model.',\n",
       "   'object_activity': 'act',\n",
       "   'rel': 'decreases'}),\n",
       " (1,\n",
       "  2,\n",
       "  1,\n",
       "  {'DiseaseState': ('Mild AD',),\n",
       "   'FDASTATUS': ('Phase 3',),\n",
       "   'Subgraph': ('Notch pathway', 'Gamma secretase pathway'),\n",
       "   'citation': ('PubMed', 'Curr Med Chem. 2011;18(35):5430-47', '22087836'),\n",
       "   'evidence': 'gamma-Secretase inhibitor believed to be associated with the inhibition of the cleavage of Notch, a transmembrane receptor involved in regulating cell-fate decisions.',\n",
       "   'object_activity': 'pep',\n",
       "   'rel': 'decreases'})]"
      ]
     },
     "execution_count": 13,
     "metadata": {},
     "output_type": "execute_result"
    }
   ],
   "source": [
    "graph_AD.edges(data=True,keys=True)[:2]"
   ]
  },
  {
   "cell_type": "code",
   "execution_count": 14,
   "metadata": {
    "collapsed": true
   },
   "outputs": [],
   "source": [
    "#nodes = np.random.choice(graph,size=100,replace=False)\n"
   ]
  },
  {
   "cell_type": "code",
   "execution_count": 15,
   "metadata": {
    "collapsed": false
   },
   "outputs": [],
   "source": [
    "nodes = set(itt.chain.from_iterable((formN,toN) for formN,toN  in graph_AD.edges()[:100]))"
   ]
  },
  {
   "cell_type": "code",
   "execution_count": 16,
   "metadata": {
    "collapsed": false
   },
   "outputs": [],
   "source": [
    "graph_100 = graph_AD.subgraph(nodes)"
   ]
  },
  {
   "cell_type": "code",
   "execution_count": 17,
   "metadata": {
    "collapsed": false
   },
   "outputs": [
    {
     "data": {
      "image/png": "[encoded data removed]",
      "text/plain": [
       "<matplotlib.figure.Figure at 0x874a8b0>"
      ]
     },
     "metadata": {},
     "output_type": "display_data"
    }
   ],
   "source": [
    "nx.draw_spring(graph_100,with_labels=True)"
   ]
  },
  {
   "cell_type": "code",
   "execution_count": 18,
   "metadata": {
    "collapsed": false,
    "scrolled": false
   },
   "outputs": [
    {
     "data": {
      "text/html": [
       "\n",
       "        <iframe\n",
       "            width=\"1000\"\n",
       "            height=\"800\"\n",
       "            src=\"graph-temp.html\"\n",
       "            frameborder=\"0\"\n",
       "            allowfullscreen\n",
       "        ></iframe>\n",
       "        "
      ],
      "text/plain": [
       "<IPython.lib.display.IFrame at 0x81577b0>"
      ]
     },
     "execution_count": 18,
     "metadata": {},
     "output_type": "execute_result"
    }
   ],
   "source": [
    "imp.reload(vis_bel)\n",
    "vis_bel.draw(graph_100)\n"
   ]
  },
  {
   "cell_type": "code",
   "execution_count": 19,
   "metadata": {
    "collapsed": false
   },
   "outputs": [
    {
     "name": "stdout",
     "output_type": "stream",
     "text": [
      "1 2 0 {'evidence': 'The statements inside this citation is included to connect two entity types or triples, which will exist as islands/subnetworks in the big model.', 'object_activity': 'act', 'citation': ('Other', 'Connectors', '123'), 'Subgraph': ('Non-amyloidogenic pathway', 'Gamma secretase pathway'), 'rel': 'decreases'}\n"
     ]
    }
   ],
   "source": [
    "for u,v,k,a in graph_100.edges_iter(data=True,keys=True):\n",
    "    print(u, v, k, a)\n",
    "    break"
   ]
  },
  {
   "cell_type": "markdown",
   "metadata": {},
   "source": [
    "## Tasks\n",
    "\n",
    "0. Find the node with the highest degree in graph_100\n",
    "0. get all distinct attribute keys in nodes and edges for graph_100\n",
    "0. Write a function which allows you to search all edges in the graph_100 with any key (or key/value). Allow value to be optional\n",
    "0. Find shortest paths between all nodes link to the edges found in the previsious task and create a new graph, dosplay it "
   ]
  },
  {
   "cell_type": "markdown",
   "metadata": {},
   "source": [
    "**hint** : Write a function which allows you to search all edges in the graph_100 with any key (or key/value). Allow value to be optional"
   ]
  },
  {
   "cell_type": "code",
   "execution_count": 20,
   "metadata": {
    "collapsed": false
   },
   "outputs": [
    {
     "ename": "NameError",
     "evalue": "name 'edge_list' is not defined",
     "output_type": "error",
     "traceback": [
      "\u001b[1;31m---------------------------------------------------------------------------\u001b[0m",
      "\u001b[1;31mNameError\u001b[0m                                 Traceback (most recent call last)",
      "\u001b[1;32m<ipython-input-20-4f16f03f883b>\u001b[0m in \u001b[0;36m<module>\u001b[1;34m()\u001b[0m\n\u001b[0;32m      1\u001b[0m \u001b[1;32mdef\u001b[0m \u001b[0mfind_edge_by_attrib_key_value\u001b[0m\u001b[1;33m(\u001b[0m\u001b[0mgraph\u001b[0m\u001b[1;33m,\u001b[0m\u001b[0mattribKey\u001b[0m\u001b[1;33m,\u001b[0m\u001b[0mattribValue\u001b[0m\u001b[1;33m=\u001b[0m\u001b[1;32mNone\u001b[0m\u001b[1;33m)\u001b[0m\u001b[1;33m:\u001b[0m\u001b[1;33m\u001b[0m\u001b[0m\n\u001b[0;32m      2\u001b[0m     \u001b[1;32mreturn\u001b[0m \u001b[0medge_list\u001b[0m\u001b[1;33m\u001b[0m\u001b[0m\n\u001b[1;32m----> 3\u001b[1;33m \u001b[0mfind_edge_by_attrib_key_value\u001b[0m\u001b[1;33m(\u001b[0m\u001b[0mgraph_100\u001b[0m\u001b[1;33m,\u001b[0m\u001b[1;34m'Subgraph'\u001b[0m\u001b[1;33m)\u001b[0m\u001b[1;33m\u001b[0m\u001b[0m\n\u001b[0m",
      "\u001b[1;32m<ipython-input-20-4f16f03f883b>\u001b[0m in \u001b[0;36mfind_edge_by_attrib_key_value\u001b[1;34m(graph, attribKey, attribValue)\u001b[0m\n\u001b[0;32m      1\u001b[0m \u001b[1;32mdef\u001b[0m \u001b[0mfind_edge_by_attrib_key_value\u001b[0m\u001b[1;33m(\u001b[0m\u001b[0mgraph\u001b[0m\u001b[1;33m,\u001b[0m\u001b[0mattribKey\u001b[0m\u001b[1;33m,\u001b[0m\u001b[0mattribValue\u001b[0m\u001b[1;33m=\u001b[0m\u001b[1;32mNone\u001b[0m\u001b[1;33m)\u001b[0m\u001b[1;33m:\u001b[0m\u001b[1;33m\u001b[0m\u001b[0m\n\u001b[1;32m----> 2\u001b[1;33m     \u001b[1;32mreturn\u001b[0m \u001b[0medge_list\u001b[0m\u001b[1;33m\u001b[0m\u001b[0m\n\u001b[0m\u001b[0;32m      3\u001b[0m \u001b[0mfind_edge_by_attrib_key_value\u001b[0m\u001b[1;33m(\u001b[0m\u001b[0mgraph_100\u001b[0m\u001b[1;33m,\u001b[0m\u001b[1;34m'Subgraph'\u001b[0m\u001b[1;33m)\u001b[0m\u001b[1;33m\u001b[0m\u001b[0m\n",
      "\u001b[1;31mNameError\u001b[0m: name 'edge_list' is not defined"
     ]
    }
   ],
   "source": [
    "def find_edge_by_attrib_key_value(graph,attribKey,attribValue=None):\n",
    "    return edge_list\n",
    "find_edge_by_attrib_key_value(graph_100,'Subgraph')"
   ]
  },
  {
   "cell_type": "code",
   "execution_count": null,
   "metadata": {
    "collapsed": false
   },
   "outputs": [],
   "source": [
    "def h_degree(graph):\n",
    "    return [n for n,d in graph.degree_iter() if max(d for n,d in graph.degree_iter()) == d]\n",
    "\n",
    "print (*h_degree(graph_100))"
   ]
  },
  {
   "cell_type": "code",
   "execution_count": null,
   "metadata": {
    "collapsed": false
   },
   "outputs": [],
   "source": [
    "keys_list = []\n",
    "for edge in graph_100.edges(data=True,keys=True):\n",
    "    for elem in edge:\n",
    "        if isinstance(elem, dict):\n",
    "            for k, v in elem.items():\n",
    "                if k not in keys_list:\n",
    "                    keys_list.append(k)\n",
    "\n",
    "print(keys_list)"
   ]
  },
  {
   "cell_type": "code",
   "execution_count": null,
   "metadata": {
    "collapsed": false
   },
   "outputs": [],
   "source": [
    "def get_attrib_keys(graph):\n",
    "    nodes_keys = []\n",
    "    edges_keys = []\n",
    "    for node in graph.nodes(data=True):\n",
    "        for elem1 in node:\n",
    "            if isinstance(elem1, dict):\n",
    "                for k, v in elem1.items():\n",
    "                    if k not in nodes_keys:\n",
    "                        nodes_keys.append(k)\n",
    "    for edge in graph.edges(data=True,keys=True):\n",
    "        for elem2 in edge:\n",
    "            if isinstance(elem2, dict):\n",
    "                for k, v in elem2.items():\n",
    "                    if k not in edges_keys:\n",
    "                        edges_keys.append(k)\n",
    "    all_keys = nodes_keys + edges_keys\n",
    "    return all_keys\n",
    "\n",
    "get_attrib_keys(graph_100)\n",
    "    "
   ]
  },
  {
   "cell_type": "code",
   "execution_count": 52,
   "metadata": {
    "collapsed": false
   },
   "outputs": [
    {
     "name": "stdout",
     "output_type": "stream",
     "text": [
      "[[1, 2, 0], [1, 2, 1], [1, 1828, 0], [3, 6, 11], [5, 6, 0], [5, 6, 3], [5, 2936, 1], [5, 2937, 1], [266, 2937, 0], [1217, 3, 1], [1217, 6, 0], [1534, 6, 0]]\n"
     ]
    }
   ],
   "source": [
    "def get_edges(graph, key, value=None):\n",
    "    \n",
    "    edges_list = []\n",
    "    \n",
    "    for edge in graph.edges(data=True,keys=True):\n",
    "        edges_el = []\n",
    "        for elem1 in edge:\n",
    "            if isinstance(elem1, dict):\n",
    "                for k, v in elem1.items():\n",
    "                    if k == key:\n",
    "                        if value is not None:\n",
    "                            if v == value:\n",
    "                                edges_el += edge\n",
    "                        else: edges_el += edge\n",
    "        if edges_el:\n",
    "            edges_list.append([el for el in edges_el if not isinstance(el, dict)])\n",
    "                        \n",
    "    return edges_list\n",
    "                        \n",
    "test = get_edges(graph_100, 'rel', 'decreases')\n",
    "print (test)"
   ]
  },
  {
   "cell_type": "code",
   "execution_count": null,
   "metadata": {
    "collapsed": true
   },
   "outputs": [],
   "source": []
  },
  {
   "cell_type": "code",
   "execution_count": null,
   "metadata": {
    "collapsed": true
   },
   "outputs": [],
   "source": []
  }
 ],
 "metadata": {
  "anaconda-cloud": {},
  "kernelspec": {
   "display_name": "Python [Root]",
   "language": "python",
   "name": "Python [Root]"
  },
  "language_info": {
   "codemirror_mode": {
    "name": "ipython",
    "version": 3
   },
   "file_extension": ".py",
   "mimetype": "text/x-python",
   "name": "python",
   "nbconvert_exporter": "python",
   "pygments_lexer": "ipython3",
   "version": "3.5.2"
  }
 },
 "nbformat": 4,
 "nbformat_minor": 1
}
