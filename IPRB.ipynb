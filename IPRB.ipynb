{
 "cells": [
  {
   "cell_type": "code",
   "execution_count": 1,
   "metadata": {
    "collapsed": true
   },
   "outputs": [],
   "source": [
    "def iprb(infile, outfile):\n",
    "    '''\n",
    "    Given: 1) An input file containing three positive integers k, m, and n, representing a population containing k+m+n organisms: k individuals are homozygous dominant for a factor, m are heterozygous, and n are homozygous recessive. 2) The name of the output file\n",
    "    Return: The probability that two randomly selected mating organisms will produce an individual possessing a dominant allele (and thus displaying the dominant phenotype). Assume that any two organisms can mate. Plus an output file containing the result\n",
    "    '''\n",
    "    \n",
    "    k = None\n",
    "    m = None\n",
    "    n = None\n",
    "    with open(infile, 'r') as fin:\n",
    "        for line in fin:\n",
    "            line = line.strip()\n",
    "            k, m, n = line.split(' ')\n",
    "            k = int(k)\n",
    "            m = int(m)\n",
    "            n = int(n)\n",
    "    \n",
    "    dominant = 0\n",
    "    recessive = 0\n",
    "    \n",
    "    mate_combination = (k + m + n)-1 #an organism cannot mate with itself thus -1\n",
    "    \n",
    "    for h in range(k):\n",
    "        dominant += mate_combination #all the homozygous dominant will have children with dominant phenotype\n",
    "        mate_combination -= 1 #possible mate combination -1 because after A mate B = B mate A (AB = BA)\n",
    "    for i in range(m):\n",
    "        dominant += 3/4*(mate_combination-n) #homozygous dominant X heterozygous dominant = 3/4 dominant and 1/4 recessive\n",
    "        recessive += 1/4*(mate_combination-n)\n",
    "        dominant += 1/2*n #homozygous dominant X homozygous recessive = 1/2 dominant and 1/2 recessive\n",
    "        recessive += 1/2*n\n",
    "        mate_combination -= 1\n",
    "    for j in range(n):\n",
    "        recessive += mate_combination #all the homozygous recessive will have children with recessive phenotype\n",
    "        mate_combination -= 1\n",
    "        \n",
    "    dominant_prob = dominant/(dominant + recessive)\n",
    "    \n",
    "    with open(outfile, 'w') as fout:\n",
    "        fout.write(str(dominant_prob))\n",
    "    \n",
    "    return dominant_prob\n"
   ]
  },
  {
   "cell_type": "code",
   "execution_count": 2,
   "metadata": {
    "collapsed": false
   },
   "outputs": [
    {
     "name": "stdout",
     "output_type": "stream",
     "text": [
      "0.7084507042253522\n"
     ]
    }
   ],
   "source": [
    "infile = 'rosalind_iprb.txt'\n",
    "outfile = 'iprb_sol.txt'\n",
    "\n",
    "res = iprb(infile, outfile)\n",
    "print(res)"
   ]
  }
 ],
 "metadata": {
  "anaconda-cloud": {},
  "kernelspec": {
   "display_name": "Python [conda root]",
   "language": "python",
   "name": "conda-root-py"
  },
  "language_info": {
   "codemirror_mode": {
    "name": "ipython",
    "version": 3
   },
   "file_extension": ".py",
   "mimetype": "text/x-python",
   "name": "python",
   "nbconvert_exporter": "python",
   "pygments_lexer": "ipython3",
   "version": "3.5.2"
  }
 },
 "nbformat": 4,
 "nbformat_minor": 0
}
