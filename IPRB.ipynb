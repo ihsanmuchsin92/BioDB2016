{
 "cells": [
  {
   "cell_type": "code",
   "execution_count": 1,
   "metadata": {
    "collapsed": false
   },
   "outputs": [
    {
     "data": {
      "text/plain": [
       "0.7016129032258065"
      ]
     },
     "execution_count": 1,
     "metadata": {},
     "output_type": "execute_result"
    }
   ],
   "source": [
    "def iprb(k, m, n):\n",
    "    dominant = 0\n",
    "    recessive = 0\n",
    "    \n",
    "    temp = (k + m + n)-1\n",
    "    \n",
    "    for h in range(k):\n",
    "        dominant += 4*temp\n",
    "        temp -= 1\n",
    "    for i in range(m):\n",
    "        dominant += 4*3/4*(temp-n)\n",
    "        recessive += 4*1/4*(temp-n)\n",
    "        dominant += 4*1/2*n\n",
    "        recessive += 4*1/2*n\n",
    "        temp -= 1\n",
    "    for j in range(n):\n",
    "        recessive += 4*temp\n",
    "        temp -= 1\n",
    "        \n",
    "    dom_per = dominant/(dominant + recessive)\n",
    "    return dom_per\n",
    "\n",
    "iprb(15, 26, 21)"
   ]
  },
  {
   "cell_type": "code",
   "execution_count": null,
   "metadata": {
    "collapsed": true
   },
   "outputs": [],
   "source": []
  }
 ],
 "metadata": {
  "anaconda-cloud": {},
  "kernelspec": {
   "display_name": "Python [Root]",
   "language": "python",
   "name": "Python [Root]"
  },
  "language_info": {
   "codemirror_mode": {
    "name": "ipython",
    "version": 3
   },
   "file_extension": ".py",
   "mimetype": "text/x-python",
   "name": "python",
   "nbconvert_exporter": "python",
   "pygments_lexer": "ipython3",
   "version": "3.5.2"
  }
 },
 "nbformat": 4,
 "nbformat_minor": 0
}
