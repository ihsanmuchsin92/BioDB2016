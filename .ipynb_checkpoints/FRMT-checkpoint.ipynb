{
 "cells": [
  {
   "cell_type": "code",
   "execution_count": 1,
   "metadata": {
    "collapsed": false
   },
   "outputs": [
    {
     "name": "stdout",
     "output_type": "stream",
     "text": [
      ">gi|407358256|gb|JX317622.1| Ochlerotatus triseriatus prohibitin-1 mRNA, partial cds\n",
      "GCGCTGCGTATTCTGTTCCGACCGATTCCGGATCAGCTGCCGAAGATCTACACAATTCTGGGTCCGGATT\n",
      "ACGACGAGCGAGTGCTTCCGTCGATTACGACTGAAGTCCTGAAGGCCGTCGTGGCCCAGTTCGATGCCGG\n",
      "AGAGTTGATCACCCAGCGTGAGATGGTGTCGCAGAAGGTTTCCGACGATCTGACCGAACGTGCCGCCCAG\n",
      "TTCGGCGTCATTCTGGATGACATTTCGATTACGCATTTGACGTTCGGAAAGGAATTCACGCAGGCCGTTG\n",
      "AAATGAAGCAGGTTGCCCAGCAGGAAGCCGAGAAGGCCCGGTTCATGGTCGAAAAGGCGGAACAGATGAA\n",
      "GATGGCTGCGATCATTTCGGCGGAAGGTGACGCCGAGGCTGCTGCCCTACTGGCGAAATCGTTCGGCGAC\n",
      "AGCGGAGACGGTTTGGTCGAACTGCGAAGAATCGAAGCGGCCGAGGACATTGCCTACCAGATGAGCCGGT\n",
      "CC\n"
     ]
    }
   ],
   "source": [
    "from Bio import Entrez\n",
    "from Bio import SeqIO\n",
    "\n",
    "with open('rosalind_frmt.txt') as input_data:\n",
    "    IDs = input_data.read().strip().split()\n",
    "\n",
    "Entrez.email = 'ihsanmuchsin@gmail.com'\n",
    "handle = Entrez.efetch(db='nucleotide', id=IDs, rettype='fasta')\n",
    "records = list(SeqIO.parse(handle, 'fasta'))\n",
    "\n",
    "[min_index] = [i for i in range(len(records)) if len(records[i]) == min([len(record.seq) for record in records])]\n",
    "\n",
    "handle2 = Entrez.efetch(db='nucleotide', id=IDs, rettype='fasta')\n",
    "minFASTA = handle2.read().strip().split('\\n\\n')[min_index]\n",
    "\n",
    "print (minFASTA)"
   ]
  },
  {
   "cell_type": "code",
   "execution_count": null,
   "metadata": {
    "collapsed": true
   },
   "outputs": [],
   "source": []
  }
 ],
 "metadata": {
  "anaconda-cloud": {},
  "kernelspec": {
   "display_name": "Python [Root]",
   "language": "python",
   "name": "Python [Root]"
  },
  "language_info": {
   "codemirror_mode": {
    "name": "ipython",
    "version": 3
   },
   "file_extension": ".py",
   "mimetype": "text/x-python",
   "name": "python",
   "nbconvert_exporter": "python",
   "pygments_lexer": "ipython3",
   "version": "3.5.2"
  }
 },
 "nbformat": 4,
 "nbformat_minor": 0
}
