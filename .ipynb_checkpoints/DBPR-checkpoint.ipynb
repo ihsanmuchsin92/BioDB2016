{
 "cells": [
  {
   "cell_type": "code",
   "execution_count": 1,
   "metadata": {
    "collapsed": false
   },
   "outputs": [],
   "source": [
    "#Ihsan Muchsin\n",
    "\n",
    "from Bio import ExPASy\n",
    "from Bio import SwissProt\n",
    "\n",
    "def dbpr(infile, outfile):\n",
    "    '''\n",
    "    Given: 1) An input file containing the UniProt ID of a protein. 2) The name of the output file\n",
    "    Return: A list of biological processes in which the protein is involved (plus an output file containing this)\n",
    "    '''\n",
    "    \n",
    "    uni_id = \"\"\n",
    "    with open(infile, 'r') as fin: #get uniprot ID from the file\n",
    "        for line in fin:\n",
    "            line = line.strip()\n",
    "            uni_id += line\n",
    "            \n",
    "    bio_proc = []\n",
    "    handle = ExPASy.get_sprot_raw(uni_id)\n",
    "    record = SwissProt.read(handle)\n",
    "    for e in record.cross_references[:]: \n",
    "        if e[0] == 'GO': #GO start with GO in cross_references\n",
    "            if e[2][0] == 'P': #Biological processes indicated with P\n",
    "                bio_proc.append(e[2][2:]) #add the biological processes into the list\n",
    "                \n",
    "    with open(outfile, 'w') as fout:\n",
    "        for i in range(len(bio_proc) - 1):\n",
    "            fout.write(str(bio_proc[i]) + '\\n')\n",
    "        fout.write(str(bio_proc[len(bio_proc)-1]))\n",
    "        \n",
    "    return bio_proc"
   ]
  },
  {
   "cell_type": "code",
   "execution_count": 2,
   "metadata": {
    "collapsed": false
   },
   "outputs": [
    {
     "name": "stdout",
     "output_type": "stream",
     "text": [
      "fatty acid biosynthetic process\n",
      "lipid A biosynthetic process\n"
     ]
    }
   ],
   "source": [
    "infile = 'rosalind_dbpr.txt'\n",
    "outfile = 'dbpr_sol.txt'\n",
    "\n",
    "res = dbpr(infile, outfile)\n",
    "print (*res, sep='\\n')"
   ]
  },
  {
   "cell_type": "code",
   "execution_count": null,
   "metadata": {
    "collapsed": true
   },
   "outputs": [],
   "source": []
  }
 ],
 "metadata": {
  "anaconda-cloud": {},
  "kernelspec": {
   "display_name": "Python [conda root]",
   "language": "python",
   "name": "conda-root-py"
  },
  "language_info": {
   "codemirror_mode": {
    "name": "ipython",
    "version": 3
   },
   "file_extension": ".py",
   "mimetype": "text/x-python",
   "name": "python",
   "nbconvert_exporter": "python",
   "pygments_lexer": "ipython3",
   "version": "3.5.2"
  }
 },
 "nbformat": 4,
 "nbformat_minor": 0
}
