{
 "cells": [
  {
   "cell_type": "code",
   "execution_count": 2,
   "metadata": {
    "collapsed": false
   },
   "outputs": [
    {
     "name": "stdout",
     "output_type": "stream",
     "text": [
      "intracellular protein transmembrane transport\n",
      "protein secretion\n",
      "protein targeting\n"
     ]
    }
   ],
   "source": [
    "from Bio import ExPASy\n",
    "from Bio import SwissProt\n",
    "\n",
    "def dbpr(uni_id):\n",
    "    handle = ExPASy.get_sprot_raw(uni_id)\n",
    "    record = SwissProt.read(handle)\n",
    "    for e in record.cross_references[:]:\n",
    "        if e[0] == 'GO':\n",
    "            if e[2][0] == 'P':\n",
    "                print (e[2][2:])\n",
    "                \n",
    "uni_id = 'Q5JH32'\n",
    "dbpr(uni_id)"
   ]
  },
  {
   "cell_type": "code",
   "execution_count": null,
   "metadata": {
    "collapsed": true
   },
   "outputs": [],
   "source": []
  }
 ],
 "metadata": {
  "kernelspec": {
   "display_name": "Python [Root]",
   "language": "python",
   "name": "Python [Root]"
  },
  "language_info": {
   "codemirror_mode": {
    "name": "ipython",
    "version": 3
   },
   "file_extension": ".py",
   "mimetype": "text/x-python",
   "name": "python",
   "nbconvert_exporter": "python",
   "pygments_lexer": "ipython3",
   "version": "3.5.2"
  }
 },
 "nbformat": 4,
 "nbformat_minor": 0
}
