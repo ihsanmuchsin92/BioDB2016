{
 "cells": [
  {
   "cell_type": "code",
   "execution_count": 1,
   "metadata": {
    "collapsed": false
   },
   "outputs": [
    {
     "name": "stdout",
     "output_type": "stream",
     "text": [
      "22 69 76 94 101 124 131 211 231 248 255 262 269 285 292 299 356 400 407 450 457 517 551 602 609 833 871 888 904 911\n"
     ]
    }
   ],
   "source": [
    "from Bio import motifs\n",
    "from Bio.Seq import Seq\n",
    "import Bio.Alphabet\n",
    "\n",
    "f = open(\"rosalind_subs.txt\", 'r')\n",
    "raw_seq = f.readline().rstrip()\n",
    "motif = f.readline().rstrip()\n",
    "f.close()\n",
    "\n",
    "instances = [Seq(motif)]\n",
    "m = motifs.create(instances)\n",
    "\n",
    "seq = Seq(raw_seq, Bio.Alphabet.IUPAC.unambiguous_dna)\n",
    "\n",
    "locations = []\n",
    "for pos in m.instances.search(seq):\n",
    "    locations.append(pos[0]+1)\n",
    "    \n",
    "print (*locations)"
   ]
  },
  {
   "cell_type": "code",
   "execution_count": null,
   "metadata": {
    "collapsed": true
   },
   "outputs": [],
   "source": []
  }
 ],
 "metadata": {
  "anaconda-cloud": {},
  "kernelspec": {
   "display_name": "Python [Root]",
   "language": "python",
   "name": "Python [Root]"
  },
  "language_info": {
   "codemirror_mode": {
    "name": "ipython",
    "version": 3
   },
   "file_extension": ".py",
   "mimetype": "text/x-python",
   "name": "python",
   "nbconvert_exporter": "python",
   "pygments_lexer": "ipython3",
   "version": "3.5.2"
  }
 },
 "nbformat": 4,
 "nbformat_minor": 0
}
