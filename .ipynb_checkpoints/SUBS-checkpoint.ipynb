{
 "cells": [
  {
   "cell_type": "code",
   "execution_count": 1,
   "metadata": {
    "collapsed": false
   },
   "outputs": [],
   "source": [
    "#Ihsan Muchsin\n",
    "#Using default library\n",
    "\n",
    "def subs(infile, outfile):\n",
    "    '''\n",
    "    Given: 1) An input file containing two DNA strings s and t (each of length at most 1 kbp). 2) The name of the output file\n",
    "    Return: All locations of t as a substring of s. Plus an output file containing the result\n",
    "    '''\n",
    "    \n",
    "    dna = \"\"\n",
    "    motif = \"\"\n",
    "    with open(infile, 'r') as fin:\n",
    "        dna = fin.readline().rstrip()\n",
    "        motif = fin.readline().rstrip()\n",
    "    \n",
    "    locations = []\n",
    "    for i in range(len(dna)):\n",
    "        if dna[i:i+len(motif)] == motif: #check if motif is in the dna string and get the position\n",
    "            locations.append(i+1)\n",
    "            \n",
    "    with open(outfile, 'w') as fout:\n",
    "        for i in range(len(locations)-1):\n",
    "            fout.write(str(locations[i]) + ' ')\n",
    "        fout.write(str(locations[-1]))\n",
    "                \n",
    "    return locations"
   ]
  },
  {
   "cell_type": "code",
   "execution_count": 2,
   "metadata": {
    "collapsed": false
   },
   "outputs": [
    {
     "name": "stdout",
     "output_type": "stream",
     "text": [
      "60 323 406 413 420 459 466 497 533 540 547 575 632 657 690 760 767 806 849 856 888 905\n"
     ]
    }
   ],
   "source": [
    "infile = 'rosalind_subs.txt'\n",
    "outfile = 'subs_sol.txt'\n",
    "\n",
    "res = subs(infile, outfile)\n",
    "print (*res)"
   ]
  },
  {
   "cell_type": "code",
   "execution_count": 3,
   "metadata": {
    "collapsed": true
   },
   "outputs": [],
   "source": [
    "#Ihsan Muchsin\n",
    "#Using BioPython library\n",
    "\n",
    "from Bio import motifs\n",
    "from Bio.Seq import Seq\n",
    "import Bio.Alphabet\n",
    "\n",
    "def subs_biopython(infile, outfile):\n",
    "    '''\n",
    "    Given: 1) An input file containing two DNA strings s and t (each of length at most 1 kbp). 2) The name of the output file\n",
    "    Return: All locations of t as a substring of s. Plus an output file containing the result\n",
    "    '''\n",
    "    \n",
    "    dna = None\n",
    "    motif = None\n",
    "    with open(infile, 'r') as fin:\n",
    "        raw_dna = fin.readline().rstrip()\n",
    "        raw_motif = fin.readline().rstrip()\n",
    "        \n",
    "        motif_seq_list = [Seq(raw_motif)] #list of motifs as seq object\n",
    "        motif = motifs.create(motif_seq_list) #create motif object from seq object\n",
    "        \n",
    "        dna = Seq(raw_dna, Bio.Alphabet.IUPAC.unambiguous_dna)\n",
    "    \n",
    "    locations = []\n",
    "    for loc in motif.instances.search(dna):\n",
    "        locations.append(loc[0]+1)\n",
    "        \n",
    "    with open(outfile, 'w') as fout:\n",
    "        for i in range(len(locations)-1):\n",
    "            fout.write(str(locations[i]) + ' ')\n",
    "        fout.write(str(locations[-1]))\n",
    "                \n",
    "    return locations"
   ]
  },
  {
   "cell_type": "code",
   "execution_count": 4,
   "metadata": {
    "collapsed": false
   },
   "outputs": [
    {
     "name": "stdout",
     "output_type": "stream",
     "text": [
      "60 323 406 413 420 459 466 497 533 540 547 575 632 657 690 760 767 806 849 856 888 905\n"
     ]
    }
   ],
   "source": [
    "infile = 'rosalind_subs.txt'\n",
    "outfile = 'subs_sol.txt'\n",
    "\n",
    "res = subs_biopython(infile, outfile)\n",
    "print (*res)"
   ]
  },
  {
   "cell_type": "code",
   "execution_count": null,
   "metadata": {
    "collapsed": true
   },
   "outputs": [],
   "source": []
  }
 ],
 "metadata": {
  "anaconda-cloud": {},
  "kernelspec": {
   "display_name": "Python [Root]",
   "language": "python",
   "name": "Python [Root]"
  },
  "language_info": {
   "codemirror_mode": {
    "name": "ipython",
    "version": 3
   },
   "file_extension": ".py",
   "mimetype": "text/x-python",
   "name": "python",
   "nbconvert_exporter": "python",
   "pygments_lexer": "ipython3",
   "version": "3.5.2"
  }
 },
 "nbformat": 4,
 "nbformat_minor": 0
}
