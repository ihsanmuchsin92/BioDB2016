{
 "cells": [
  {
   "cell_type": "code",
   "execution_count": 1,
   "metadata": {
    "collapsed": true
   },
   "outputs": [],
   "source": [
    "#Ihsan Muchsin\n",
    "\n",
    "def rankGC(infile, outfile):\n",
    "    '''\n",
    "    Given: 1) A file containing at most 10 DNA strings in FASTA format (of length at most 1 kbp each). 2) Name for the output file\n",
    "    Return: The ID of the string having the highest GC-content, followed by the GC-content of that string (plus an output file containing this).\n",
    "    '''\n",
    "    \n",
    "    all_seq = {}\n",
    "    with open(infile, 'r') as fin:\n",
    "        seq = \"\"\n",
    "        header = None\n",
    "        for line in fin:\n",
    "            if line.startswith(\">\"): #name of the sequence in FASTA file starts with >\n",
    "                if header is not None:\n",
    "                    all_seq[header] = seq #add a new entry to dictionary with key==header and value==sequence\n",
    "                header = line.lstrip(\">\").rstrip(\"\\n\") #get the sequence name if a new header is found\n",
    "                seq=\"\" #reset the sequence after new header is found\n",
    "            else:\n",
    "                seq += line.strip() #add every line after header to the sequence\n",
    "        all_seq[header] = seq #add last entry in dictionary\n",
    "    \n",
    "    countGC = {}\n",
    "    for header, seq in all_seq.items():\n",
    "        Gcount = 0\n",
    "        Ccount = 0\n",
    "        for c in seq: #loop through every character in sequence and count the number of G and C in the sequence\n",
    "            if c == 'G':\n",
    "                Gcount += 1\n",
    "            elif c == 'C':\n",
    "                Ccount += 1\n",
    "        GCpercentage = (Gcount + Ccount) / len(seq) *100 #calculate the GCpercentage\n",
    "        countGC[header] = GCpercentage #add a new entry to dictionary countGC key==header value==GCpercentage\n",
    "    \n",
    "    max_seq = max(countGC, key=countGC.get) #get the name of the sequence with the max GC percentage\n",
    "    max_val = countGC[max_seq] #get the value of the max GC percentage\n",
    "    \n",
    "    with open(outfile, 'w') as fout:\n",
    "        fout.write(max_seq + '\\n')\n",
    "        fout.write(str(max_val))\n",
    "        \n",
    "    return max_seq, max_val  "
   ]
  },
  {
   "cell_type": "code",
   "execution_count": 2,
   "metadata": {
    "collapsed": false
   },
   "outputs": [
    {
     "name": "stdout",
     "output_type": "stream",
     "text": [
      "Rosalind_2121\n",
      "52.29468599033817\n"
     ]
    }
   ],
   "source": [
    "infile = \"rosalind_gc.txt\"\n",
    "outfile = 'gc_sol.txt'\n",
    "\n",
    "res = rankGC(infile, outfile)\n",
    "print (res[0])\n",
    "print (res[1])"
   ]
  },
  {
   "cell_type": "code",
   "execution_count": null,
   "metadata": {
    "collapsed": true
   },
   "outputs": [],
   "source": []
  }
 ],
 "metadata": {
  "anaconda-cloud": {},
  "kernelspec": {
   "display_name": "Python [conda root]",
   "language": "python",
   "name": "conda-root-py"
  },
  "language_info": {
   "codemirror_mode": {
    "name": "ipython",
    "version": 3
   },
   "file_extension": ".py",
   "mimetype": "text/x-python",
   "name": "python",
   "nbconvert_exporter": "python",
   "pygments_lexer": "ipython3",
   "version": "3.5.2"
  }
 },
 "nbformat": 4,
 "nbformat_minor": 0
}
