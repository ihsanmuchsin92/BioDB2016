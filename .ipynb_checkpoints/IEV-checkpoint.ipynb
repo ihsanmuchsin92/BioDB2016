{
 "cells": [
  {
   "cell_type": "code",
   "execution_count": null,
   "metadata": {
    "collapsed": true
   },
   "outputs": [],
   "source": [
    "def iev(infile):\n",
    "    dominant = 0\n",
    "    \n",
    "    for line in open(infile):\n",
    "        num_str = line.split(\" \")\n",
    "        for i in range(len(num_str)):\n",
    "            if i > 2:\n",
    "                if i == 3: dominant += 0.75*2*int(num_str[i])\n",
    "                elif i == 4: dominant += 0.5*2*int(num_str[i])\n",
    "                else: dominant += 0\n",
    "            else: dominant += 2*int(num_str[i])\n",
    "            \n",
    "    return dominant\n",
    "\n",
    "iev('rosalind_iev.txt')"
   ]
  }
 ],
 "metadata": {
  "anaconda-cloud": {},
  "kernelspec": {
   "display_name": "Python [Root]",
   "language": "python",
   "name": "Python [Root]"
  },
  "language_info": {
   "codemirror_mode": {
    "name": "ipython",
    "version": 3
   },
   "file_extension": ".py",
   "mimetype": "text/x-python",
   "name": "python",
   "nbconvert_exporter": "python",
   "pygments_lexer": "ipython3",
   "version": "3.5.2"
  }
 },
 "nbformat": 4,
 "nbformat_minor": 0
}
