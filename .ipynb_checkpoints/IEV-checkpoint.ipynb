{
 "cells": [
  {
   "cell_type": "code",
   "execution_count": 1,
   "metadata": {
    "collapsed": true
   },
   "outputs": [],
   "source": [
    "#Ihsan Muchsin\n",
    "\n",
    "def iev(infile, outfile):\n",
    "    '''\n",
    "    Given: An input file containing six positive integers, each of which does not exceed 20,000. The integers correspond to the number of couples in a population possessing each genotype pairing for a given factor. In order, the six given integers represent the number of couples having the following genotypes: AA-AA, AA-Aa, AA-aa, Aa-Aa, Aa-aa, aa-aa. 2) The name of output file\n",
    "    Return: The expected number of offspring displaying the dominant phenotype in the next generation, under the assumption that every couple has exactly two offspring. Plus an output file containing the result\n",
    "    '''\n",
    "    \n",
    "    pairs = []\n",
    "    with open(infile, 'r') as fin:\n",
    "        pairs = [int(x) for x in fin.readline().split()]\n",
    "        \n",
    "    dominant = (2*(pairs[0]+pairs[1]+pairs[2])) + (0.75*2*pairs[3]) + (0.5*2*pairs[4])\n",
    "    \n",
    "    with open(outfile, 'w') as fout:\n",
    "        fout.write(str(dominant))\n",
    "        \n",
    "    return dominant"
   ]
  },
  {
   "cell_type": "code",
   "execution_count": 2,
   "metadata": {
    "collapsed": false
   },
   "outputs": [
    {
     "name": "stdout",
     "output_type": "stream",
     "text": [
      "151921.5\n"
     ]
    }
   ],
   "source": [
    "infile = 'rosalind_iev.txt'\n",
    "outfile = 'iev_sol.txt'\n",
    "\n",
    "res = iev(infile, outfile)\n",
    "print(res)"
   ]
  },
  {
   "cell_type": "code",
   "execution_count": null,
   "metadata": {
    "collapsed": true
   },
   "outputs": [],
   "source": []
  }
 ],
 "metadata": {
  "anaconda-cloud": {},
  "kernelspec": {
   "display_name": "Python [Root]",
   "language": "python",
   "name": "Python [Root]"
  },
  "language_info": {
   "codemirror_mode": {
    "name": "ipython",
    "version": 3
   },
   "file_extension": ".py",
   "mimetype": "text/x-python",
   "name": "python",
   "nbconvert_exporter": "python",
   "pygments_lexer": "ipython3",
   "version": "3.5.2"
  }
 },
 "nbformat": 4,
 "nbformat_minor": 0
}
