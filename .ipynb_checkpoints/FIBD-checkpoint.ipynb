{
 "cells": [
  {
   "cell_type": "code",
   "execution_count": 1,
   "metadata": {
    "collapsed": false
   },
   "outputs": [
    {
     "name": "stdout",
     "output_type": "stream",
     "text": [
      "218400462643688481871\n"
     ]
    }
   ],
   "source": [
    "def fibd(n, m):\n",
    "    if n < 2: return n\n",
    "    elif n <= m: return fibd(n-1, m) + fibd(n-2, m)\n",
    "    elif n == m + 1: return fibd(n-1, m) + fibd(n-2, m) - 1\n",
    "    return fibd(n-1, m) + fibd(n-2, m) - fibd(n-(m+1), m)\n",
    "\n",
    "def fibd2(n, m):\n",
    "    # track number\n",
    "    # track age of each\n",
    "    fib_table = []\n",
    "    for i in range(n):\n",
    "        if i < 2:\n",
    "            fib_table.append(1)\n",
    "        elif i < m:\n",
    "            fib_table.append(fib_table[-2] + fib_table[-1])\n",
    "        elif i == m or i == m+1:\n",
    "            fib_table.append((fib_table[-2] + fib_table[-1]) - 1)\n",
    "        else:\n",
    "            fib_table.append((fib_table[-2] + fib_table[-1]) - fib_table[-(m+1)])\n",
    "    return fib_table[-1]\n",
    "\n",
    "x = fibd2(99, 20)\n",
    "print (x)"
   ]
  },
  {
   "cell_type": "code",
   "execution_count": null,
   "metadata": {
    "collapsed": true
   },
   "outputs": [],
   "source": []
  }
 ],
 "metadata": {
  "kernelspec": {
   "display_name": "Python [Root]",
   "language": "python",
   "name": "Python [Root]"
  },
  "language_info": {
   "codemirror_mode": {
    "name": "ipython",
    "version": 3
   },
   "file_extension": ".py",
   "mimetype": "text/x-python",
   "name": "python",
   "nbconvert_exporter": "python",
   "pygments_lexer": "ipython3",
   "version": "3.5.2"
  }
 },
 "nbformat": 4,
 "nbformat_minor": 0
}
