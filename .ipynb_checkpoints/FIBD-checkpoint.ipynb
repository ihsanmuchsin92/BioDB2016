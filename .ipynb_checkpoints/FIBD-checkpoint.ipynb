{
 "cells": [
  {
   "cell_type": "code",
   "execution_count": 8,
   "metadata": {
    "collapsed": true
   },
   "outputs": [],
   "source": [
    "#Ihsan Muchsin\n",
    "#Dynamics Programming\n",
    "\n",
    "def fibd(infile, outfile):\n",
    "    '''\n",
    "    Given: 1) An input file containing positive integers n≤100 and m≤20. 2) The name of output file\n",
    "    Return: The total number of pairs of rabbits that will remain after the n-th month if all rabbits live for m months. Plus an output file containing the result\n",
    "    '''\n",
    "    \n",
    "    n = None\n",
    "    m = None\n",
    "    with open(infile, 'r') as fin:\n",
    "        for line in fin:\n",
    "            line = line.strip()\n",
    "            n, m = line.split()\n",
    "            n = int(n)\n",
    "            m = int(m)\n",
    "            \n",
    "    rabbits = [0]*n\n",
    "    for i in range(n):\n",
    "        if i < 2: #first and second month only 1 pair of rabbit\n",
    "            rabbits[i] = 1\n",
    "        elif i < m: #after 2 month the pair give birth to 1 pair of rabbit, until reaching the death age, the sum is like normal fibonnaci rabbit\n",
    "            rabbits[i] = rabbits[i-1] + rabbits[i-2]\n",
    "        elif i == m or i == m+1: #after reaching the death age 1 pair is dying\n",
    "            rabbits[i] = rabbits[i-1] + rabbits[i-2] - 1\n",
    "        else: #after that the m+1 generation before current generation is dying\n",
    "            rabbits[i] = rabbits[i-1] + rabbits[i-2] - rabbits[i-(m+1)]\n",
    "            \n",
    "    with open(outfile, 'w') as fout:\n",
    "        fout.write(str(rabbits[-1]))\n",
    "        \n",
    "    return rabbits[-1]"
   ]
  },
  {
   "cell_type": "code",
   "execution_count": 9,
   "metadata": {
    "collapsed": false
   },
   "outputs": [
    {
     "name": "stdout",
     "output_type": "stream",
     "text": [
      "1763575302014503358\n"
     ]
    }
   ],
   "source": [
    "infile = 'rosalind_fibd.txt'\n",
    "outfile = 'fibd_sol.txt'\n",
    "\n",
    "res = fibd(infile, outfile)\n",
    "print(res)"
   ]
  },
  {
   "cell_type": "code",
   "execution_count": null,
   "metadata": {
    "collapsed": true
   },
   "outputs": [],
   "source": []
  }
 ],
 "metadata": {
  "anaconda-cloud": {},
  "kernelspec": {
   "display_name": "Python [Root]",
   "language": "python",
   "name": "Python [Root]"
  },
  "language_info": {
   "codemirror_mode": {
    "name": "ipython",
    "version": 3
   },
   "file_extension": ".py",
   "mimetype": "text/x-python",
   "name": "python",
   "nbconvert_exporter": "python",
   "pygments_lexer": "ipython3",
   "version": "3.5.2"
  }
 },
 "nbformat": 4,
 "nbformat_minor": 0
}
