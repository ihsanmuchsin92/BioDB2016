{
 "cells": [
  {
   "cell_type": "code",
   "execution_count": 1,
   "metadata": {
    "collapsed": false
   },
   "outputs": [],
   "source": [
    "#Ihsan Muchsin\n",
    "\n",
    "def count_nucl (infile, outfile):\n",
    "    '''\n",
    "    Given: 1) A file containing a DNA string of length at most 1000 nucleotides. 2) Name for the output file\n",
    "    Return: Four integers counting the respective number of times that the symbols 'A', 'C', 'G', and 'T' occur in given DNA string (plus an output file containing containing this)\n",
    "    '''\n",
    "    nucl_list = ['A', 'C', 'G', 'T'] #list of nucleotides\n",
    "    A_count = 0\n",
    "    C_count = 0\n",
    "    G_count = 0\n",
    "    T_count = 0\n",
    "    \n",
    "    DNA_str = ''\n",
    "    with open(infile, 'r') as fin:\n",
    "        for line in fin: #loop through every line in input file and create a DNA string\n",
    "            line = line.strip()\n",
    "            DNA_str += line\n",
    "        \n",
    "    for nucl in DNA_str: #loop through every character in DNA string and count each nucleotide frequency\n",
    "        if nucl == nucl_list[0]:\n",
    "            A_count += 1\n",
    "        elif nucl == nucl_list[1]:\n",
    "            C_count += 1\n",
    "        elif nucl == nucl_list[2]:\n",
    "            G_count += 1\n",
    "        elif nucl == nucl_list[3]:\n",
    "            T_count += 1\n",
    "    \n",
    "    all_count = [A_count, C_count, G_count, T_count]        \n",
    "    \n",
    "    with open(outfile, 'w') as fout:\n",
    "        for i in range(len(all_count) - 1):\n",
    "            fout.write(str(all_count[i]) + ' ')\n",
    "        fout.write(str(all_count[len(all_count)-1]))\n",
    "    \n",
    "    return all_count     "
   ]
  },
  {
   "cell_type": "code",
   "execution_count": 2,
   "metadata": {
    "collapsed": false
   },
   "outputs": [
    {
     "name": "stdout",
     "output_type": "stream",
     "text": [
      "226 229 223 196\n"
     ]
    }
   ],
   "source": [
    "infile = 'rosalind_dna.txt'\n",
    "outfile = 'dna_sol.txt'\n",
    "\n",
    "res = count_nucl (infile, outfile)\n",
    "print (*res) #print each element in result separated by space   "
   ]
  },
  {
   "cell_type": "code",
   "execution_count": null,
   "metadata": {
    "collapsed": true
   },
   "outputs": [],
   "source": []
  }
 ],
 "metadata": {
  "anaconda-cloud": {},
  "kernelspec": {
   "display_name": "Python [conda root]",
   "language": "python",
   "name": "conda-root-py"
  },
  "language_info": {
   "codemirror_mode": {
    "name": "ipython",
    "version": 3
   },
   "file_extension": ".py",
   "mimetype": "text/x-python",
   "name": "python",
   "nbconvert_exporter": "python",
   "pygments_lexer": "ipython3",
   "version": "3.5.2"
  }
 },
 "nbformat": 4,
 "nbformat_minor": 0
}
