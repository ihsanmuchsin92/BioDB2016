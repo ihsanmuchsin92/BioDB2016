{
 "cells": [
  {
   "cell_type": "code",
   "execution_count": 2,
   "metadata": {
    "collapsed": false
   },
   "outputs": [
    {
     "name": "stdout",
     "output_type": "stream",
     "text": [
      "254 248 211 221\n"
     ]
    }
   ],
   "source": [
    "nucl = 'GTCAAAGAACCCTGAACACTTGTTCTTTCGGATAACATACCTGTACTCGGATAAGGGATCCCCAGCCAAGGCCTTAAAGAAAGCCCTACAAAAGAGCCTAATGTATTCTGGCAAATTCACTGGGCCCATTATGGGGGCCTTAGACCCTTGAGATGCTAGAGGTCAGCAAATTCTACTCCGTCCGCATTTTCCATGCCTCTTCGCACTCAACCTTTTGGGCCCCATGGGTCAGACATCCCGGAAAGGACAGACTCATAGGGTAGCATACAATGTGCCGACGTTTATGACGGACCTCCCAATGACTCGGGTTGTGTCACCTTTACGAGACGGGTCATAAGGTGTAAACACGGATCATGAAACTATGTCCACGCTCCACCCAACCTCCTTGACACGCACAAATTAATGGCATTAATCAAATAGGCGCACGCCTAAACCAGAAAGCTATGTATTGGATAACGGCGCGCGAGTTACCGCCATGCAGACCTCCGTTAAACGTAAAGCTTAATTGCAACGCATCCAAACGACTTATCCCCATTTGTCCTTACAAACTACGACGTTAGGGTGATATTCTGTGGTTCCCGGATACTCCAAACACGACCAAACGCAGGCTCGCGAGGAATAGTTAGTGATGCGTGTGTCCTACATTCCATCTCCCCTTATGGGACGCCTAATTGAGGGATGAGCTGCATAAAAGAGTGCCACCAGAGAGTTCAAAAATGACGAAGCGTCCACCGAGAGTATCTCCGACGTCTTCGAATGGTTGTCTTTAAAAGGCCCGCATCGACCTATTACTACTCGATACGTATGCGCAGACCATCGTCGGTACAGGGATCTTGGCTGTTTGCAATTCAAATGGCATCACCTTAGGCGTCGTGAGACAGGTGACTGAAACATGCCAGTTGTGAGTTTAGTGTGACACCCCCCATGCCCTCGG'\n",
    "def countnucl (s):\n",
    "    nucllist = ['A', 'C', 'G', 'T']\n",
    "    Acount = 0\n",
    "    Ccount = 0\n",
    "    Gcount = 0\n",
    "    Tcount = 0\n",
    "    for c in s:\n",
    "        if c == nucllist[0]:\n",
    "            Acount += 1\n",
    "        elif c == nucllist[1]:\n",
    "            Ccount += 1\n",
    "        elif c == nucllist[2]:\n",
    "            Gcount += 1\n",
    "        elif c == nucllist[3]:\n",
    "            Tcount += 1\n",
    "    return Acount, Ccount, Gcount, Tcount\n",
    "\n",
    "res = countnucl(nucl)\n",
    "print (*res)          "
   ]
  },
  {
   "cell_type": "code",
   "execution_count": null,
   "metadata": {
    "collapsed": true
   },
   "outputs": [],
   "source": []
  }
 ],
 "metadata": {
  "anaconda-cloud": {},
  "kernelspec": {
   "display_name": "Python [Root]",
   "language": "python",
   "name": "Python [Root]"
  },
  "language_info": {
   "codemirror_mode": {
    "name": "ipython",
    "version": 3
   },
   "file_extension": ".py",
   "mimetype": "text/x-python",
   "name": "python",
   "nbconvert_exporter": "python",
   "pygments_lexer": "ipython3",
   "version": "3.5.2"
  }
 },
 "nbformat": 4,
 "nbformat_minor": 0
}
