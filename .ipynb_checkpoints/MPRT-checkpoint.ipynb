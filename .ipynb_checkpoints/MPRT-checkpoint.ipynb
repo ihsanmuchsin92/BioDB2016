{
 "cells": [
  {
   "cell_type": "code",
   "execution_count": 1,
   "metadata": {
    "collapsed": true
   },
   "outputs": [],
   "source": [
    "#Ihsan Muchsin\n",
    "\n",
    "import re\n",
    "from urllib.request import urlopen\n",
    "\n",
    "def mprt(infile, outfile):\n",
    "    '''\n",
    "    Given: 1) An input file containing at most 15 UniProt Protein Database access IDs. 2) The name of output file\n",
    "    Return: For each protein possessing the N-glycosylation motif, output its given access ID followed by a list of locations in the protein string where the motif can be found. Plus an output file containing the result.\n",
    "    '''\n",
    "    \n",
    "    prot = []\n",
    "    with open(infile, 'r') as fin:\n",
    "        for line in fin:\n",
    "            uniprot_id = line.strip() #get the uniprot ID\n",
    "            url = 'http://www.uniprot.org/uniprot/{}.fasta'.format(uniprot_id) #create an url for a uniprot ID\n",
    "            \n",
    "            with urlopen(url) as uin:\n",
    "                fasta_txt = uin.read().decode('ascii') #get the text from fasta file\n",
    "            \n",
    "            seq = ''.join(fasta_txt.split('\\n')[1:]) #get only the sequence from the text\n",
    "            \n",
    "            prot.append((uniprot_id, seq)) #add a tuple of uniprot ID and the sequence to the protein list\n",
    "            \n",
    "    prot_motif = re.compile(r'N[^P][ST][^P]')\n",
    "    \n",
    "    motif_pos = []\n",
    "    for uniprot_id, seq in prot:\n",
    "        \n",
    "        match_pos, last_match = [], 0\n",
    "        while True:\n",
    "            match = prot_motif.search(seq, last_match)\n",
    "            if not match:\n",
    "                break\n",
    "\n",
    "            last_match = match.start() + 1\n",
    "            match_pos.append(last_match) #get the match position\n",
    "        if match_pos:    \n",
    "            motif_pos.append((uniprot_id, match_pos)) #append uniprot ID and its match positions to list\n",
    "        \n",
    "    with open(outfile, 'w') as fout:\n",
    "        motif_string_list = []\n",
    "        for uniprot_id, match_pos in motif_pos:\n",
    "            match_pos_str = [str(pos) for pos in match_pos]\n",
    "            motif_string = uniprot_id + '\\n' + ' '.join(match_pos_str)\n",
    "            motif_string_list.append(motif_string)\n",
    "        fout.write('\\n'.join(motif_string_list))\n",
    "        \n",
    "    return motif_pos"
   ]
  },
  {
   "cell_type": "code",
   "execution_count": 2,
   "metadata": {
    "collapsed": false
   },
   "outputs": [
    {
     "name": "stdout",
     "output_type": "stream",
     "text": [
      "P10761_ZP3_MOUSE\n",
      "146 273 304 327 330\n",
      "P36912_EBA2_FLAME\n",
      "5 48 236 278\n",
      "P13473_LMP2_HUMAN\n",
      "32 38 49 58 75 101 123 179 229 242 257 275 300 307 317 356\n",
      "A6WKC3\n",
      "84 360\n",
      "P01880_DTC_HUMAN\n",
      "225 316 367\n",
      "P81447_MPP3_CAPHI\n",
      "96\n",
      "P37803\n",
      "110\n",
      "P05155_IC1_HUMAN\n",
      "25 69 81 238 253 352\n",
      "P00749_UROK_HUMAN\n",
      "322\n",
      "P55067_PGCN_RAT\n",
      "121 339 737 967 1164\n",
      "P0AF66\n",
      "90 121\n",
      "P08318_P100_HCMVA\n",
      "833\n"
     ]
    }
   ],
   "source": [
    "infile = 'rosalind_mprt.txt'\n",
    "outfile = 'mprt_sol.txt'\n",
    "\n",
    "res = mprt(infile, outfile)\n",
    "\n",
    "res_string_list = []\n",
    "for uniprot_id, match_pos in res:\n",
    "    match_pos_str = [str(pos) for pos in match_pos]\n",
    "    res_string = uniprot_id + '\\n' + ' '.join(match_pos_str)\n",
    "    res_string_list.append(res_string)\n",
    "print('\\n'.join(res_string_list))"
   ]
  },
  {
   "cell_type": "code",
   "execution_count": null,
   "metadata": {
    "collapsed": true
   },
   "outputs": [],
   "source": []
  }
 ],
 "metadata": {
  "kernelspec": {
   "display_name": "Python [Root]",
   "language": "python",
   "name": "Python [Root]"
  },
  "language_info": {
   "codemirror_mode": {
    "name": "ipython",
    "version": 3
   },
   "file_extension": ".py",
   "mimetype": "text/x-python",
   "name": "python",
   "nbconvert_exporter": "python",
   "pygments_lexer": "ipython3",
   "version": "3.5.2"
  }
 },
 "nbformat": 4,
 "nbformat_minor": 0
}
