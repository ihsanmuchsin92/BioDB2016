{
 "cells": [
  {
   "cell_type": "code",
   "execution_count": 1,
   "metadata": {
    "collapsed": true
   },
   "outputs": [],
   "source": [
    "#Ihsan Muchsin\n",
    "\n",
    "def hamm(infile, outfile):\n",
    "    '''\n",
    "    Given: 1) A file containing two DNA strings of equal length (not exceeding 1 kbp). 2) Name for the output file\n",
    "    Return: The Hamming distance (plus an output file containing this).\n",
    "    '''\n",
    "    \n",
    "    seq_list = [] #listing all of the sequence from the file\n",
    "    with open(infile, 'r') as fin:\n",
    "        for line in fin:\n",
    "            seq_list.append(line)\n",
    "    \n",
    "    hamm_dist = 0 #calculate hamming distance between two sequences        \n",
    "    for i in range(len(seq_list[0])):\n",
    "        if seq_list[0][i] != seq_list[1][i]: #check if character in position i is not equal\n",
    "            hamm_dist += 1 #increase hamming distance by 1 if it is not equal\n",
    "            \n",
    "    with open(outfile, 'w') as fout:\n",
    "        fout.write(str(hamm_dist))\n",
    "        \n",
    "    return hamm_dist          "
   ]
  },
  {
   "cell_type": "code",
   "execution_count": 2,
   "metadata": {
    "collapsed": false
   },
   "outputs": [
    {
     "name": "stdout",
     "output_type": "stream",
     "text": [
      "487\n"
     ]
    }
   ],
   "source": [
    "infile = 'rosalind_hamm.txt'\n",
    "outfile = 'hamm_sol.txt'\n",
    "\n",
    "res = hamm(infile, outfile)\n",
    "print (res)"
   ]
  },
  {
   "cell_type": "code",
   "execution_count": null,
   "metadata": {
    "collapsed": true
   },
   "outputs": [],
   "source": []
  }
 ],
 "metadata": {
  "anaconda-cloud": {},
  "kernelspec": {
   "display_name": "Python [conda root]",
   "language": "python",
   "name": "conda-root-py"
  },
  "language_info": {
   "codemirror_mode": {
    "name": "ipython",
    "version": 3
   },
   "file_extension": ".py",
   "mimetype": "text/x-python",
   "name": "python",
   "nbconvert_exporter": "python",
   "pygments_lexer": "ipython3",
   "version": "3.5.2"
  }
 },
 "nbformat": 4,
 "nbformat_minor": 0
}
