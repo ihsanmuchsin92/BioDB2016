{
 "cells": [
  {
   "cell_type": "code",
   "execution_count": 1,
   "metadata": {
    "collapsed": false
   },
   "outputs": [],
   "source": [
    "def prtm(infile, outfile, mass_table):\n",
    "    '''\n",
    "    Given: 1) An input file containing a protein string P of length at most 1000 aa. 2) The name of output file. 3) A text file containing monoisotopic mass table from rosalind\n",
    "    Return: 2) The total weight of P. Plus an output file containing the result\n",
    "    '''\n",
    "    \n",
    "    aas_mass = {}\n",
    "    with open(mass_table, 'r') as mass:\n",
    "        for line in mass:\n",
    "            aa_mass = line.strip().split() #split each line into 2 elements. 1st element is AA and 2nd element is mass\n",
    "            aas_mass[aa_mass[0]] = float(aa_mass[1]) #add AA as key and mass as value to dictionary\n",
    "            \n",
    "    prot = \"\"\n",
    "    with open(infile, 'r') as fin:\n",
    "        prot = fin.read().strip()\n",
    "        \n",
    "    total_mass = 0\n",
    "    for aa in prot:\n",
    "        total_mass += aas_mass[aa]\n",
    "    \n",
    "    with open(outfile, 'w') as fout:\n",
    "        fout.write(str(total_mass))\n",
    "    \n",
    "    return total_mass"
   ]
  },
  {
   "cell_type": "code",
   "execution_count": 2,
   "metadata": {
    "collapsed": false
   },
   "outputs": [
    {
     "name": "stdout",
     "output_type": "stream",
     "text": [
      "109989.18228000036\n"
     ]
    }
   ],
   "source": [
    "infile = 'rosalind_prtm.txt'\n",
    "outfile = 'prtm_sol.txt'\n",
    "mass_table = 'monoisotopic_mass_table.txt'\n",
    "\n",
    "res = prtm(infile, outfile, mass_table)\n",
    "print (res)"
   ]
  },
  {
   "cell_type": "code",
   "execution_count": null,
   "metadata": {
    "collapsed": true
   },
   "outputs": [],
   "source": []
  }
 ],
 "metadata": {
  "anaconda-cloud": {},
  "kernelspec": {
   "display_name": "Python [Root]",
   "language": "python",
   "name": "Python [Root]"
  },
  "language_info": {
   "codemirror_mode": {
    "name": "ipython",
    "version": 3
   },
   "file_extension": ".py",
   "mimetype": "text/x-python",
   "name": "python",
   "nbconvert_exporter": "python",
   "pygments_lexer": "ipython3",
   "version": "3.5.2"
  }
 },
 "nbformat": 4,
 "nbformat_minor": 0
}
