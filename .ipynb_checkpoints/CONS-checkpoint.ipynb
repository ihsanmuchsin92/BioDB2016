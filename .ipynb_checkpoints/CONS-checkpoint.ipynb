{
 "cells": [
  {
   "cell_type": "code",
   "execution_count": 1,
   "metadata": {
    "collapsed": true
   },
   "outputs": [],
   "source": [
    "#Ihsan Muchsin\n",
    "\n",
    "from collections import OrderedDict\n",
    "\n",
    "def cons(infile, outfile):\n",
    "    '''\n",
    "    Given: 1) An input file containing a collection of at most 10 DNA strings of equal length (at most 1 kbp) in FASTA format. 2) The name of output file\n",
    "    Return: A consensus string and profile matrix for the collection. (If several possible consensus strings exist, then you may return any one of them.), Plus an output file containing the result\n",
    "    '''\n",
    "    \n",
    "    all_seq = {}\n",
    "    with open(infile, 'r') as fin:\n",
    "        seq = \"\"\n",
    "        header = None\n",
    "        for line in fin:\n",
    "            if line.startswith(\">\"): #name of the sequence in FASTA file starts with >\n",
    "                if header is not None:\n",
    "                    all_seq[header] = seq #add a new entry to dictionary with key==header and value==sequence\n",
    "                header = line.lstrip(\">\").rstrip(\"\\n\") #get the sequence name if a new header is found\n",
    "                seq=\"\" #reset the sequence after new header is found\n",
    "            else:\n",
    "                seq += line.strip() #add every line after header to the sequence\n",
    "        all_seq[header] = seq #add last entry in dictionary\n",
    "        \n",
    "    profile_matrix = OrderedDict.fromkeys(('A', 'C', 'G', 'T',))    \n",
    "    for seq in all_seq.values():        \n",
    "        if not profile_matrix['A']:\n",
    "            for key in profile_matrix:\n",
    "                profile_matrix[key] = [0] * len(seq)        \n",
    "        for index, char in enumerate(seq):            \n",
    "            profile_matrix[char][index] += 1 #count the number of each nucleotide in each position\n",
    "            \n",
    "    cons = []    \n",
    "    for index in range(len(profile_matrix['A'])):\n",
    "        max_repeats, max_char = 0, '' # initialize/reset counters\n",
    "        for char in profile_matrix: # cycle over the keys for this index\n",
    "            if profile_matrix[char][index] >= max_repeats: # update counters\n",
    "                max_repeats = profile_matrix[char][index]\n",
    "                max_char = char\n",
    "        cons.append(max_char) # append largest-counted char to result\n",
    "    \n",
    "    cons_string = ''.join(cons) # get all the chars as a single string\n",
    "    \n",
    "    with open(outfile, 'w') as fout:\n",
    "        fout.write(cons_string + '\\n')\n",
    "        prof_mat_string = []\n",
    "        for key, chars in profile_matrix.items():\n",
    "            prof_mat_string.append('{}: {}'.format(key, ' '.join(str(char) for char in chars)))\n",
    "        fout.write('\\n'.join(prof_mat_string))\n",
    "    \n",
    "    return (profile_matrix, cons_string)"
   ]
  },
  {
   "cell_type": "code",
   "execution_count": 2,
   "metadata": {
    "collapsed": false
   },
   "outputs": [
    {
     "name": "stdout",
     "output_type": "stream",
     "text": [
      "ATTCGCCTAGTTACAACTATCAATTACGCAGAGGCTATTCGGTATGGGGTGAGCTAGCGAATTACGCCGAGGAGGAATACGGTACCTCTAGCAATCGGCGAATCATTTCAACTAGGCCGACTTGCTTAGGTCCAGGATTCTCTTAGGTGGCCGGTTTATGGACCCCAGGTTGCGGATGCTTGATGTGCGGTGATTTATTAAGGGATTTTTGGGGTGAGTTAAGGGCGTGTTTGACAGTTGGTTGCAGTCTTTAGTGGCTCTCTCTGTCGTGCGCACACAGCGGCTGTACTAGACTGCGGTCTCTGGTACTTTCGCCTACTACTGTAGCGTGAGTCTAGTGCTGGAGGCGCTCATACCTGTGTTGATCCAAGTCGCTAAATTGGTGTGCTGTTCGTCCATTTGTAGCGGGGTAAGAGGTGATATTTGCAGCCGTGCTACCTGGTACTCGATCCCTCTACGTGCCTAATCAAATACCACCTGTATAGTCGTGTTGCCTCGGCACAGAGTTAGTATCGCTCCTATTCCGTCACGTAACCACAATTACATGTCCCCGAGCGCCCGAGCCGGGGTGCGCTACATCGCTTGGTAGGCATGTTACTGTTATTTTTTTCCGAACTGTGTTAGTATTTGAACCTGTAGGAAGAGACAACCTGTTTGACACTCAGGTCGGTTAGAGTTTTTAATGCCTATGGAGCCATAATATCATGGCACGATGTCTCTGGTTACAATTAGTTGACCTTACGTGGACGTCTGCTGATTACTGTTTTCACCGCTGCCCTAGATTGGCTTAATGGGTCGTATGCCTACATGTGCATTCTTCGGCTTGCCGAGGGTTTATGCCTCGAGAGCTTCCGTAGGCCTGCTTGTGAGAGATAAGCTCGTTGTAATTCGGCGCAGGCGGTTCACTTAGGTAGACCCCACCTTGTACAGAACTCTTGATCATGCCAACGACGTGCACTCTCGTCTGTCTCGACGCTAATCGACATCG\n",
      "A: 5 2 3 1 2 3 3 1 4 2 3 3 4 3 5 4 3 3 4 1 2 4 5 1 1 4 3 3 2 6 2 5 2 3 2 1 5 2 2 2 1 2 2 4 1 3 3 4 2 2 2 5 3 2 1 4 0 2 1 4 5 2 3 4 2 3 2 4 3 4 1 2 4 1 3 5 4 1 4 3 2 3 2 4 2 1 3 3 0 4 2 3 4 5 1 1 2 4 3 3 4 7 1 2 5 2 1 3 0 4 4 3 2 4 2 2 3 3 1 4 3 1 3 3 2 1 3 4 0 4 1 2 2 4 2 3 4 1 3 4 1 3 2 1 4 3 2 2 3 1 4 2 1 2 2 4 1 4 1 2 3 6 3 1 2 1 4 3 4 3 2 2 1 2 1 6 3 2 2 2 2 1 4 1 2 2 3 4 2 3 0 1 4 1 3 2 4 1 2 4 5 3 1 3 4 2 0 3 1 1 3 3 3 1 1 1 5 3 2 2 5 5 3 2 3 4 4 1 2 2 3 2 1 4 1 5 3 1 4 4 3 3 3 2 2 5 2 3 1 2 2 1 6 3 2 3 1 2 3 4 3 3 1 1 2 3 1 3 3 2 2 1 1 3 5 2 4 1 4 3 3 2 3 2 3 3 3 4 2 2 5 3 4 0 4 1 3 3 1 2 2 2 3 3 1 3 4 4 4 2 2 3 3 1 3 1 3 4 2 2 4 4 2 2 1 4 2 3 3 2 1 4 3 3 1 0 4 1 3 4 0 2 2 2 4 3 1 4 1 1 1 1 5 1 4 1 1 2 1 4 3 3 3 2 4 2 1 1 6 5 2 3 2 2 2 0 4 4 4 2 1 2 4 0 2 2 1 3 2 1 4 0 3 3 3 2 2 5 1 2 3 1 2 4 2 3 0 2 2 3 1 4 4 4 4 3 3 2 2 4 3 4 3 3 1 2 4 4 1 1 0 3 3 3 0 2 4 2 1 2 1 3 2 6 3 1 1 3 4 3 0 0 1 2 3 1 4 2 2 2 2 3 3 2 5 5 4 3 4 4 5 2 4 1 4 4 3 3 2 3 0 4 1 5 3 3 1 0 0 2 3 3 3 1 3 2 1 3 2 2 4 2 4 3 4 3 3 1 4 0 2 4 2 2 1 0 2 3 3 3 4 4 2 1 2 2 1 4 4 2 2 1 5 6 2 4 4 1 5 4 3 2 5 1 5 1 2 1 2 1 2 0 2 4 4 1 3 1 2 2 3 4 3 3 3 3 2 1 2 3 4 1 0 1 3 5 1 4 3 3 2 3 3 1 3 3 4 4 0 3 1 5 2 2 3 2 5 3 3 3 3 2 5 3 3 3 3 2 2 2 2 2 3 5 4 3 3 1 1 1 3 3 6 2 0 4 3 4 3 4 6 4 1 1 3 1 3 4 3 3 4 4 2 4 2 5 3 7 4 3 3 0 1 1 3 2 2 5 0 4 1 2 2 4 2 2 2 3 1 0 1 1 5 2 4 2 3 2 4 2 3 4 4 0 2 2 1 1 5 2 2 4 4 1 3 1 4 2 5 5 0 4 3 3 4 3 2 2 3 4 1 1 4 0 3 3 1 1 2 2 3 2 2 3 4 3 4 4 1 1 5 2 3 1 2 4 1 3 2 3 4 2 1 2 0 1 4 1 1 1 2 2 2 4 3 1 5 1 3 4 3 1 3 3 0 1 2 2 4 2 1 3 3 2 4 1 2 3 2 4 1 4 3 3 1 1 2 1 2 6 5 3 3 3 2 3 2 3 1 4 1 2 3 3 1 5 2 5 2 3 3 2 3 5 2 4 3 3 4 2 3 4 3 1 1 3 3 3 3 4 3 4 2 1 1 1 4 2 2 0 3 3 1 1 5 1 4 2 0 1 3 2 3 2 1 4 1 2 2 1 1 2 2 2 0 3 1 0 4 2 4 3 6 2 6 4 1 3 3 2 2 0 3 4 1 7 5 3 2 2 3 2 2 3 3 5 4 1 1 2 3 2 3 1 4 2 2 3 4 3 3 2 6 3 4 2 3 3 2 5 1 1 4 1 2 1 4 1 5 2 5 5 1 2 2 0 1 2 4 0 1 4 2 1 3 3 7 5 1 3 4 2 2 0 3 3 4 2 3 3 0 2 2 3 0 2 1 1 1 1 3 2 4 3 0 2 0 5 4 1 2 3 5 3 4 2 3 2\n",
      "C: 0 3 2 6 3 4 3 1 3 3 0 1 2 4 2 2 3 1 2 4 4 1 0 2 3 3 4 2 4 0 3 1 2 3 4 2 2 1 2 5 2 2 2 1 4 2 3 0 3 2 3 1 3 5 1 1 4 5 2 3 3 2 1 2 5 2 4 5 1 3 2 1 3 0 2 2 1 2 3 4 3 2 1 2 4 4 3 4 0 1 1 3 2 1 1 4 3 2 4 1 1 1 3 6 0 2 1 2 4 1 3 5 1 3 3 3 3 3 3 2 3 3 2 2 4 3 1 2 2 1 3 4 6 1 1 3 1 4 2 4 2 4 2 2 1 3 2 2 2 3 4 5 3 3 2 2 1 2 3 3 0 0 4 4 4 4 2 2 2 1 3 2 4 2 2 1 1 3 5 3 0 3 2 3 3 2 2 4 3 2 1 2 2 4 2 3 3 3 2 2 0 0 2 2 3 2 4 3 3 2 3 1 3 2 2 2 2 3 1 2 2 2 2 3 2 4 0 1 2 3 1 3 2 2 5 3 0 3 0 1 1 1 2 2 4 0 3 2 4 0 3 3 1 2 2 2 4 4 3 4 3 3 0 4 2 2 1 4 3 3 1 5 1 3 1 5 1 4 1 2 4 2 3 5 3 2 3 1 6 3 1 2 3 4 1 2 5 2 1 1 4 3 4 2 0 1 0 3 4 3 3 2 3 3 4 5 1 1 4 2 2 4 3 3 2 2 3 4 1 2 2 2 3 0 5 4 1 4 1 2 5 1 2 1 3 0 2 4 2 4 2 4 2 1 2 4 5 1 2 2 2 3 2 0 3 2 6 5 0 1 3 2 5 4 4 2 1 3 2 3 2 3 0 2 2 2 2 4 1 3 1 3 7 2 3 4 4 1 1 3 2 2 2 3 1 4 3 2 1 2 3 2 2 0 2 0 2 2 2 1 1 3 3 2 2 2 4 1 0 4 6 2 2 3 6 2 2 4 5 3 1 3 0 2 4 4 4 3 2 0 4 5 4 2 4 3 1 4 3 3 2 3 3 2 1 2 2 4 2 1 1 2 2 6 4 2 5 4 2 3 4 2 3 2 2 1 5 4 2 3 1 2 2 5 4 3 5 2 3 5 3 6 3 2 3 3 2 1 3 1 2 2 2 4 3 5 2 4 4 3 2 2 1 6 4 2 1 4 2 4 1 1 2 1 4 4 3 4 2 3 3 3 3 7 0 2 1 4 6 5 5 5 4 2 2 5 2 6 4 4 2 1 2 5 4 1 1 2 2 2 0 5 4 4 1 3 4 1 1 4 3 5 1 3 2 3 2 2 2 2 4 1 2 2 2 3 3 5 2 2 3 1 2 1 1 1 2 2 1 0 4 5 1 1 2 4 1 2 3 1 2 3 1 3 3 3 1 0 2 0 2 2 5 4 1 1 1 1 2 0 3 3 3 2 3 1 3 1 3 4 3 4 2 2 2 2 4 1 5 3 4 3 4 2 2 1 2 3 4 1 3 3 2 3 3 3 3 1 1 1 1 2 2 3 2 4 5 3 0 3 3 1 1 0 3 4 2 1 1 1 2 1 1 3 1 2 2 2 3 3 5 4 3 3 1 2 5 3 4 2 2 3 2 2 3 3 2 2 3 3 0 3 2 2 3 1 5 5 0 2 2 5 2 2 3 1 2 5 3 3 4 2 2 4 2 2 2 1 3 2 4 2 2 1 3 4 2 4 3 4 4 2 3 0 0 4 6 4 2 3 0 1 1 0 1 2 4 3 2 0 3 2 2 3 2 2 5 1 2 3 3 2 3 3 3 3 4 2 2 2 1 2 5 0 3 2 6 1 0 4 1 1 4 1 3 3 5 4 2 3 1 0 1 3 2 3 2 1 2 5 4 1 6 2 4 3 3 3 4 2 1 4 4 1 3 3 2 3 4 4 3 3 5 2 2 3 3 4 1 2 3 1 1 2 1 2 1 5 0 4 1 3 1 1 2 1 2 1 2 4 3 3 6 3 5 2 1 3 4 3 2 4 1 5 2 4 3 1 3 3 1 2 3 2 3 5 4 4 5 2 4 4 1 3 2 2 2 4 3 2 1 1 4 1 4 2 3 0 1 1 4 2 2 4 4 4 2 1 6 2 1 4 2 2 3 5 3 5 1 4 4 4 3 2 5 1 2 4 4 2 5 2 3 4 3 4 4 2 2 2 5 0 1 6 2 2 4 2\n",
      "G: 1 2 0 2 3 1 2 4 1 3 3 3 2 0 1 2 2 3 2 1 2 3 3 3 3 1 2 4 2 3 3 2 5 4 3 2 2 1 3 2 4 4 1 3 1 4 3 4 3 3 3 4 3 3 4 3 4 2 6 2 2 3 3 3 0 5 1 0 4 1 4 5 2 6 3 1 3 3 2 1 4 3 2 2 1 2 0 1 2 2 4 2 2 3 4 2 4 4 2 4 3 1 3 2 1 1 3 2 3 3 1 2 3 2 3 4 2 2 4 2 2 2 2 3 2 3 3 3 5 4 2 1 2 2 4 3 2 1 1 0 3 1 3 2 3 3 4 3 3 4 0 2 4 3 3 0 2 3 2 4 5 1 2 3 2 3 2 4 4 2 1 5 2 6 4 2 3 3 2 2 3 4 2 2 4 3 3 1 3 3 4 4 3 1 2 1 1 3 2 2 3 4 4 4 2 2 2 0 2 1 3 4 3 5 3 5 1 3 3 3 2 1 3 4 3 2 4 3 5 2 2 1 5 1 2 0 5 2 2 4 4 3 2 4 2 2 3 2 2 3 2 3 1 4 1 3 4 3 0 1 1 2 3 3 3 3 4 3 3 2 4 2 5 2 4 2 3 3 3 4 2 5 3 2 1 4 0 2 1 1 1 4 1 3 0 5 0 4 6 3 1 2 2 1 5 4 2 3 2 2 1 2 2 4 1 2 2 2 3 3 2 0 1 4 3 2 4 1 5 3 6 1 3 2 3 1 2 5 1 4 3 2 4 5 3 4 6 1 4 2 3 2 0 4 3 3 2 2 5 0 3 0 2 5 2 2 1 1 2 2 5 1 1 4 3 3 3 1 1 2 1 3 4 2 5 2 4 1 3 4 1 2 0 3 1 1 3 3 4 1 0 6 3 0 5 2 7 5 4 3 3 1 2 5 2 5 4 2 4 2 1 2 0 1 2 5 2 2 6 2 1 4 0 3 2 2 2 3 3 1 7 4 4 1 0 1 3 3 2 3 3 1 3 2 0 3 2 3 4 2 4 2 2 1 3 1 0 1 2 3 1 3 1 1 1 2 2 2 3 4 2 1 2 0 3 2 1 5 3 3 0 1 3 1 2 0 3 4 5 1 1 0 2 3 0 3 2 2 0 5 3 2 3 1 4 2 3 3 2 1 2 0 2 1 1 4 4 1 3 1 4 4 1 1 3 0 1 3 3 1 1 2 1 2 3 3 4 1 2 2 2 3 4 1 4 1 3 1 2 3 3 3 3 1 2 5 4 4 4 2 5 3 5 3 3 0 2 3 3 2 4 1 3 3 5 3 0 3 5 4 2 2 3 5 0 1 2 2 1 3 0 3 2 3 3 3 2 3 3 3 2 0 4 3 2 1 1 4 3 5 1 1 1 3 2 0 3 1 2 5 1 2 1 3 2 6 2 2 3 4 1 3 3 1 5 2 2 1 2 0 2 1 4 2 2 3 4 4 2 1 3 2 3 3 6 4 2 2 4 5 1 3 1 4 2 3 1 3 1 1 3 3 3 3 5 1 1 3 2 0 4 4 3 5 2 3 2 2 2 4 3 2 2 2 3 2 4 5 2 3 1 4 1 3 4 1 3 2 3 3 3 4 1 0 2 2 1 2 3 3 3 3 2 3 5 2 2 1 4 2 3 2 5 3 4 5 2 0 4 3 3 3 4 1 0 4 1 3 0 2 1 3 3 3 2 1 3 1 1 1 3 3 2 3 5 3 0 1 3 2 5 3 1 3 5 6 2 3 2 2 1 2 4 3 4 2 0 4 2 1 1 4 2 2 3 1 3 2 1 3 1 4 0 3 2 0 0 2 2 2 4 4 1 4 2 3 1 1 3 3 4 4 4 1 2 3 2 2 4 4 1 3 1 4 1 4 3 4 3 3 2 1 1 4 0 1 4 3 2 2 2 3 0 2 4 3 2 6 3 4 1 5 3 2 2 3 5 1 3 3 6 2 3 4 3 1 1 3 3 2 4 3 2 3 2 1 4 5 3 3 3 0 2 2 1 1 2 2 1 4 6 3 0 3 1 2 2 1 1 2 3 2 1 3 5 3 3 2 1 6 2 1 2 0 2 4 1 5 2 3 2 3 3 5 0 1 0 2 2 3 2 2 5 4 3 1 1 0 1 2 2 1 3 2 2 3 4 0 3 2 2 5 0 2 4 2 2 1 1 3 1 4 2 0 1 1 2 4\n",
      "T: 4 3 5 1 2 2 2 4 2 2 4 3 2 3 2 2 2 3 2 4 2 2 2 4 3 2 1 1 2 1 2 2 1 0 1 5 1 6 3 1 3 2 5 2 4 1 1 2 2 3 2 0 1 0 4 2 2 1 1 1 0 3 3 1 3 0 3 1 2 2 3 2 1 3 2 2 2 4 1 2 1 2 5 2 3 3 4 2 8 3 3 2 2 1 4 3 1 0 1 2 2 1 3 0 4 5 5 3 3 2 2 0 4 1 2 1 2 2 2 2 2 4 3 2 2 3 3 1 3 1 4 3 0 3 3 1 3 4 4 2 4 2 3 5 2 1 2 3 2 2 2 1 2 2 3 4 6 1 4 1 2 3 1 2 2 2 2 1 0 4 4 1 3 0 3 1 3 2 1 3 5 2 2 4 1 3 2 1 2 2 5 3 1 4 3 4 2 3 4 2 2 3 3 1 1 4 4 4 4 6 1 2 1 2 4 2 2 1 4 3 1 2 2 1 2 0 2 5 1 3 4 4 2 3 2 2 2 4 4 1 2 3 3 2 2 3 2 3 3 5 3 3 2 1 5 2 1 1 4 1 3 2 6 2 3 2 4 0 1 3 3 2 3 2 0 1 2 2 2 1 1 1 1 1 3 1 4 3 1 4 3 1 2 3 5 2 2 1 2 4 3 3 1 4 4 2 4 0 0 3 4 3 2 2 2 2 4 3 1 3 2 2 4 1 4 2 1 2 1 3 1 3 1 5 1 5 3 0 5 0 2 5 2 2 0 3 1 1 3 3 4 3 3 4 1 2 2 5 2 4 2 4 3 3 1 4 2 3 2 2 0 4 2 0 1 5 2 2 3 3 6 2 2 6 1 4 3 2 4 2 4 5 0 2 3 3 1 1 4 4 5 1 3 3 2 1 0 1 3 2 3 3 2 1 2 2 1 4 2 3 5 1 4 4 5 1 0 3 3 3 3 1 5 1 2 4 2 1 1 4 1 0 4 1 3 4 2 1 2 4 3 4 2 4 3 3 3 1 1 3 2 2 2 5 1 2 4 2 2 2 3 3 3 2 1 2 0 1 3 0 4 3 4 3 2 4 3 1 5 2 6 4 2 3 1 5 1 1 0 2 2 2 1 2 3 1 3 6 3 4 3 2 3 3 2 3 3 0 1 3 2 4 5 2 3 2 4 1 1 3 3 4 2 2 1 2 2 2 0 2 3 3 1 0 2 4 3 4 0 2 1 2 0 3 0 3 2 2 2 1 2 2 2 1 1 1 3 3 2 3 1 1 1 2 3 2 3 2 3 1 1 1 3 3 0 1 4 1 3 1 3 2 3 1 5 4 0 0 4 2 4 4 1 3 3 3 3 3 4 5 2 3 2 1 2 2 5 3 3 3 4 3 2 2 5 3 3 5 3 1 1 2 3 2 4 2 4 3 2 3 2 0 2 3 0 2 2 1 1 3 2 5 3 5 3 3 0 0 3 2 2 3 1 1 0 3 4 2 1 4 5 3 2 1 1 2 3 4 4 6 3 1 1 4 1 3 3 3 3 5 1 1 2 4 2 2 2 5 2 0 5 3 4 2 2 3 2 1 2 0 3 1 2 4 2 4 1 4 1 3 2 1 5 5 1 2 3 2 3 3 2 2 3 4 0 3 2 1 4 3 1 1 2 3 3 3 2 4 2 3 1 3 2 1 5 3 2 5 4 2 2 4 2 3 5 4 3 3 2 3 2 2 2 5 1 2 2 2 3 1 4 2 5 4 3 1 2 3 4 2 1 3 1 1 2 3 3 2 5 2 5 2 2 2 3 1 1 1 5 2 5 2 2 2 3 4 1 4 4 2 2 1 2 4 4 1 1 2 2 0 2 2 3 5 5 3 2 5 2 1 2 3 2 3 0 2 0 1 3 4 4 3 2 3 6 2 3 2 2 3 4 2 3 4 4 1 4 0 2 2 2 1 0 4 1 1 3 1 4 1 1 5 3 1 4 1 2 3 3 2 0 2 0 1 0 2 1 1 2 2 2 4 4 2 3 3 3 4 2 0 0 3 1 2 2 1 1 2 2 1 2 3 4 3 1 4 1 3 1 0 2 3 3 7 2 4 5 3 3 6 3 1 3 0 3 2 1 2 1 2 3 2 1 4 1 1 2 3 5 1 4 3 2 3 3 4 3 5 2 5 0 1 3 1 3 2 4 2 3 4 2 3 2 1 3 5 1 2\n"
     ]
    }
   ],
   "source": [
    "infile = 'rosalind_cons.txt'\n",
    "outfile = 'cons_sol.txt'\n",
    "\n",
    "profile_matrix, cons_string = cons(infile, outfile)\n",
    "print(cons_string)\n",
    "for key, chars in profile_matrix.items():\n",
    "    print('{}: {}'.format(key, ' '.join(str(char) for char in chars)))"
   ]
  },
  {
   "cell_type": "code",
   "execution_count": null,
   "metadata": {
    "collapsed": true
   },
   "outputs": [],
   "source": []
  }
 ],
 "metadata": {
  "anaconda-cloud": {},
  "kernelspec": {
   "display_name": "Python [Root]",
   "language": "python",
   "name": "Python [Root]"
  },
  "language_info": {
   "codemirror_mode": {
    "name": "ipython",
    "version": 3
   },
   "file_extension": ".py",
   "mimetype": "text/x-python",
   "name": "python",
   "nbconvert_exporter": "python",
   "pygments_lexer": "ipython3",
   "version": "3.5.2"
  }
 },
 "nbformat": 4,
 "nbformat_minor": 0
}
