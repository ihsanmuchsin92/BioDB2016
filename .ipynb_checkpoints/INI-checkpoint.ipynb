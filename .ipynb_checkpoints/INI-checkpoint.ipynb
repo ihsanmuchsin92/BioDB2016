{
 "cells": [
  {
   "cell_type": "code",
   "execution_count": 1,
   "metadata": {
    "collapsed": false
   },
   "outputs": [],
   "source": [
    "#Ihsan Muchsin\n",
    "\n",
    "from Bio.Seq import Seq\n",
    "\n",
    "def ini(infile, outfile):\n",
    "    '''\n",
    "    Given: 1) A file containing a DNA string of length at most 1000 nucleotides. 2) Name for the output file\n",
    "    Return: Four integers counting the respective number of times that the symbols 'A', 'C', 'G', and 'T' occur in given DNA string (plus an output file containing containing this)\n",
    "    '''\n",
    "    \n",
    "    nucl_list = ['A', 'C', 'G', 'T'] #list of nucleotides\n",
    "    raw_dna = ''\n",
    "    with open(infile, 'r') as fin:\n",
    "        for line in fin: #loop through every line in input file and create a DNA string\n",
    "            line = line.strip()\n",
    "            raw_dna += line\n",
    "    dna = Seq(raw_dna)\n",
    "    \n",
    "    nucl_count = []\n",
    "    for nucl in nucl_list:\n",
    "        nucl_count.append(dna.count(nucl)) #count the frequency of each nucleotide\n",
    "        \n",
    "    with open(outfile, 'w') as fout:\n",
    "        for i in range(len(nucl_count) - 1):\n",
    "            fout.write(str(nucl_count[i]) + ' ')\n",
    "        fout.write(str(nucl_count[len(nucl_count)-1]))\n",
    "        \n",
    "    return nucl_count"
   ]
  },
  {
   "cell_type": "code",
   "execution_count": 2,
   "metadata": {
    "collapsed": false
   },
   "outputs": [
    {
     "name": "stdout",
     "output_type": "stream",
     "text": [
      "241 248 228 241\n"
     ]
    }
   ],
   "source": [
    "infile = 'rosalind_ini.txt'\n",
    "outfile = 'ini_sol.txt'\n",
    "\n",
    "res = ini(infile, outfile)\n",
    "print(*res)"
   ]
  },
  {
   "cell_type": "code",
   "execution_count": null,
   "metadata": {
    "collapsed": true
   },
   "outputs": [],
   "source": []
  }
 ],
 "metadata": {
  "anaconda-cloud": {},
  "kernelspec": {
   "display_name": "Python [conda root]",
   "language": "python",
   "name": "conda-root-py"
  },
  "language_info": {
   "codemirror_mode": {
    "name": "ipython",
    "version": 3
   },
   "file_extension": ".py",
   "mimetype": "text/x-python",
   "name": "python",
   "nbconvert_exporter": "python",
   "pygments_lexer": "ipython3",
   "version": "3.5.2"
  }
 },
 "nbformat": 4,
 "nbformat_minor": 0
}
