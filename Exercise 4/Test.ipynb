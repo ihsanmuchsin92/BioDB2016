{
 "cells": [
  {
   "cell_type": "code",
   "execution_count": null,
   "metadata": {
    "collapsed": false
   },
   "outputs": [],
   "source": [
    "nucl = 'TCTCTTTCCGTCTAGTCCGGACAATACAGCGACCAGAGGCTGCTAGTATGGCACATGAACCACTCAGAGCGATAAGGTGGGTTATACAGTATGTCCTGGCAGATCCCCTATCCGAGTGTAGCTGTTATAGCATATGAAACAACATCTGGATAACGTGATATGACAACTGGTGATTTGGTCCATGGGTGTACTCATTTAACAAGTGTCTAGAAGACAGATACTCCTTACGGCGTCGGCTTTGTGTTTCTTTGCATTTGCCAGGTTTGTAGTGTAGGACGACTGCTAGTTCTCGCGGAAGACCGGTGCAAGGGTAAAATATGTGGTTTAGCCACCTCTGCTGACGGACGTTTGGGGTCTTACATCCAGAAGTAAGGATGTATGAAGAGGATCGCGGGTACGGGAGAACCAGGCAGCATAGTCGGATGGGGCCCTATATTTTAGTGGAAACGCTGAGCAATTTAGTATGGTTCTACTGGGAGATAGATATGGCACTGACCCAATTGCGCCAATGTACACAGTCAAAGTCAGGCCTGGTTCTCTTAGGGCCTAATATCGCGCACGGGTACCTTACTATATAGGAGTCGCCTGCTGGCCAATATACGATTTAGGTTAGTGACAATTCCACCCTTTGACTGAGCCCTGCTAGCATGGCGACGTGTCCATATAATAAACACTAGCTAAACGAGTCGGATATGGTGCGTTAGTCAAGGTCGGCATTAAAGCTACCTTCGCTGTAGTTTGCTTGCGAGTGACTGGTAAGTATTGTGAATCGTTCCCATCTGATTCGGGTCTGACATAAGGGGGGTCCCGTCACCCTCGCACGTCCATACAGACCTCAACTTTTTTCTGAGCCAGAATCACAGCCGTTACGCCTCCCCGTCTG'\n",
    "def countnucl (s):\n",
    "    nucllist = ['A', 'C', 'G', 'T']\n",
    "    Acount = 0\n",
    "    Ccount = 0\n",
    "    Gcount = 0\n",
    "    Tcount = 0\n",
    "    for c in s:\n",
    "        if c == nucllist[0]:\n",
    "            Acount += 1\n",
    "        elif c == nucllist[1]:\n",
    "            Ccount += 1\n",
    "        elif c == nucllist[2]:\n",
    "            Gcount += 1\n",
    "        elif c == nucllist[3]:\n",
    "            Tcount += 1\n",
    "    return Acount, Ccount, Gcount, Tcount\n",
    "\n",
    "res = countnucl(nucl)\n",
    "print (res)\n",
    "            "
   ]
  },
  {
   "cell_type": "code",
   "execution_count": null,
   "metadata": {
    "collapsed": false,
    "scrolled": false
   },
   "outputs": [],
   "source": [
    "def transDNARNA (dna):\n",
    "    rna = \"\"\n",
    "    pair = {'A' : 'A', 'C' : 'C', 'G' : 'G', 'T' : 'U'}\n",
    "    for c in dna:\n",
    "        rna += pair[c]\n",
    "    return rna\n",
    "\n",
    "dna = 'ATGATGAGATATTTGAGCACAACATTTAAAAATTCTCGATAATCGCATGTAAACTCACTCTAGTCTTAAAAGAGAGTACGCGAGCTCTGCAGCCTCCTAAACGATATAAAGGGTTAGGCCGTGTAATGCTCATATCAATGTGAACGCCTGAGTTTTATACCCGTATCTTACTTACCGGACCAAATGCCAGAAAGGTTGCTTAAGGTTCACGTCCCTGGGAACGTGTATCAATGTTATGCTTAACACGTGTGAGCACACACACCAACATCACTGATAAAATTCTACTGCCGGGTATTCGTTAACATACTGAGGCCTGCGTAGGCTCATTCGGAAAATATTATTTACCCGAAACACGACCTCTCATAAATAGATAACATAAGAGTAACTGCTTGTACCCTGGAGTATATCGTTGGGAAACAAGCGGTGGAATGCTTGGCCATGTCCCTGGGACCGCCATCAACATACCCTAGCGGGATAGAGTCGGTGGGATGTTTACTCGATCATGTTACCCCGTCAACGGACACTCACGTGCCACACCATGGAAATTCTAATCCCAACCGAGATCGGATGTCTACAATTCGACAACGGGTCTAGTTGTTCGGATTGCCGTAGGAAGCTATGTTCCTGACACTCAAAACGGTTCTGATATCACATCCTCGTGCGTGCTATGATTACAACTTCAAGGCACATGTTCCCCACCTCACGACGGGAAGTTATCCCATTCGACGTATCACGGCTCTGCGGGTTAGCATAACACATAGTTCCTCCAACTAAGTGTGCCACTAGACATCCCCGCTACGATCCAACTTGCACCGCGGGAACGGCATTGCCACCTGCTGTAGTCAAGGCGCCAGCCATCGTCGGCAAGAGAATGTGGATTCGATCAGTGGCTACCCAAAGTGGCGGCATAATTCAACTCGGATCCCTCAGGATTATCGAACTTAAGCAT'\n",
    "rna = transDNARNA(dna)\n",
    "print (rna)"
   ]
  },
  {
   "cell_type": "code",
   "execution_count": null,
   "metadata": {
    "collapsed": false
   },
   "outputs": [],
   "source": [
    "def revcompl(dna):\n",
    "    rev_compl = \"\"\n",
    "    pair = {'A' : 'T', 'C' : 'G', 'G' : 'C', 'T' : 'A'}\n",
    "    for c in dna[::-1]:\n",
    "        rev_compl += pair[c]\n",
    "    return rev_compl\n",
    "\n",
    "dna = 'GTTTGCTCGGGACAAAAAGGCGACAATTGCTTCGCCATACGAAGTGATGACAAAGCGGCAGTTGGGAGGCGGTTGAAATCGTCTTACACGCATGAACTAATTCCATCGCTCCGAGAAGGCATTTGAATCTAATACACAAGGCAGCTCAAGCTCGACTACCGGCGCGCAGCTGTCATGACAGGACGTCGTCCTGGGTGTCGTAGACGTAATCGAGGATGGGACACCTGCAGGGTTTAAGAACCCTGATAACTATAAAAAAATGCTGGTAACCAGCTCATTAAGGGCGTGCGTTGTGATGTATCGGCCAACTGAACTTAAATGGAATCGTTGACAAGGTATCAAAGGAATGGAGTGAACACCTCCAAACCCAACACAGGCTCAATGGTGGAGTGGACATCCGCTTCAGTTGCCGAGGTGTCGTTACCCTCTGGGTACCGGCCCAAAAAGAGTACAGAGCAGCATTACTTAAAGCGTAAATCGATTTCTTCTTGGGCGACCATTGCATTTCTTAAAGATTACCACGATGGATTTTCTTAGGACCGCTGGCTTGCGGTCTCTGCTCGAGTCTGACCTGTACCTAACATCCTTACCTTGGATAAACCATAACGCTCTGATCCAATGGTGGGTATCAGGTTTGCTCAAAGTGGGCCTCGGCGGGGGCAACCGTCCGCCTCCCGGAGTCTTTCCTATTAATACCTCCCCGATTTATTATATGGCCGCTAATTGACTATGAGGACGCACTTGGCCAGTTGTTAAGCCCAATCCTATGAATTGGTCAGGTAAATTAATTTTTATTGACAGGGCAGCCTATGTATCGCAGTAAGACGGTGGTCTTGCCCAGGAGGACCCCAGGTCAATCGGTAGCGGTTGGTTCAGAACCAACTACTAGCAATAAAAGGAAAGTTATAGCCGGTTCTACATGTATTTGTAGATCTACTACT'\n",
    "res = revcompl(dna)\n",
    "print (res)"
   ]
  },
  {
   "cell_type": "code",
   "execution_count": 1,
   "metadata": {
    "collapsed": false
   },
   "outputs": [
    {
     "data": {
      "text/plain": [
       "20444528200"
      ]
     },
     "execution_count": 1,
     "metadata": {},
     "output_type": "execute_result"
    }
   ],
   "source": [
    "def wasrab(n, k):\n",
    "    if n < 2: return n\n",
    "    return wasrab(n - 1, k) + k*wasrab(n - 2, k)\n",
    "\n",
    "wasrab(30, 3)"
   ]
  },
  {
   "cell_type": "code",
   "execution_count": null,
   "metadata": {
    "collapsed": false
   },
   "outputs": [],
   "source": [
    "def read_fasta(infile):\n",
    "    fin = open(infile, \"r\")\n",
    "    seq = \"\"\n",
    "    header = None\n",
    "    all_seq = {}\n",
    "    for line in fin:\n",
    "        if line.startswith(\">\"):\n",
    "            if header is not None:\n",
    "                all_seq[header] = seq\n",
    "            header = line.lstrip(\">\").rstrip(\"\\n\")\n",
    "            seq=\"\"\n",
    "        else:\n",
    "            seq += line.strip()\n",
    "    all_seq[header] = seq     \n",
    "    fin.close()\n",
    "    return(all_seq)\n",
    "\n",
    "def rankGC(infile):\n",
    "    all_seq = read_fasta(infile)\n",
    "    countGC = {}\n",
    "    for header, seq in all_seq.items():\n",
    "        Gcount = 0\n",
    "        Ccount = 0\n",
    "        for c in seq:\n",
    "            if c == 'G':\n",
    "                Gcount += 1\n",
    "            elif c == 'C':\n",
    "                Ccount += 1\n",
    "        GCpercentage = (Gcount + Ccount) / len(seq) *100\n",
    "        countGC[header] = GCpercentage\n",
    "    max_seq = max(countGC, key=countGC.get)\n",
    "    max_val = countGC[max_seq]\n",
    "    return max_seq, max_val\n",
    "\n",
    "infile = \"rosalind_gc.txt\"\n",
    "res = rankGC(infile)\n",
    "print (res)\n"
   ]
  },
  {
   "cell_type": "code",
   "execution_count": 1,
   "metadata": {
    "collapsed": false
   },
   "outputs": [
    {
     "name": "stdout",
     "output_type": "stream",
     "text": [
      "494\n"
     ]
    }
   ],
   "source": [
    "def hamm(s1, s2):\n",
    "    hamm_dist = 0\n",
    "    for i in range(len(s1)):\n",
    "        if s1[i] != s2[i]:\n",
    "            hamm_dist += 1\n",
    "    return hamm_dist\n",
    "\n",
    "s1 = 'GTTCGAGCTCGCCTTCTTTATTATAAACGCGTACGGATGTACCACTGGTAGCCCACTCCCTGTTATCCTGATTCAACGTCAAGATCAGCCCAAATTTTGACGGGTCGCGGTGGAACCTGGTCAGAACGCGCTGATAGGGGCTGTTCGACCTTAAGCATTCGTGGTCAAGCCTGGCCTGCCGTTCTGCAACTTCTTACTCAGGAACTTTACGTTGAGACGTCAGACACGGCAGGGACGTCCAGGCGATGAGGCAAGGGGGGTCTGCGCGCTTTCGCGTAGTCTGCTCCGATGTAAGGTACCGGCCTCTTGAGTGAAGCGGCAGGTATCGGCTTATACCCCGGTCGGATTGTATTAAGGTGCAGCGCAGTTTCAATGGGTGACGGGCGGCACACGTCGCAGTCAGGCGTTTCAAAGCAATCGGTTAGGCAGCCCCGCTTCCGGAAAATCATGGCACCCTCGCATTTGTCCCTAGGGGTTCGTCAGGTGGAGGTCACGAAATCGAACATTTGTGTCACGCACCCCTAGCGACCCTAATCAGCCGTAATGGTGGTCGGATGGACTTTGATGCACATGATGTCTCGCCCTTATTAGCCTGACCTGTCAAACGATCTTGTGAGTTCCCGGACTAGGCAACCAACCACGCGGGATCAATACGGCGCGCAGGCGATACAGGACAGATGTCGCTCCTTTCAGCCGCCTGGCGAGTATGCTGAGTATGCGAAACCCATAGTCTGTTGCGGTCTAGGCGGACAAGTAATCGCATACTAACCGTTCCCGCAACGACCATTTAGGCGGCGAAATCCAACAATTGGGGCTTGGCCTCACACGACCTAAAAGCGTTGCGGAGTACCGGTGATGCTCCGTGTAGGGGTAACATTCAAGAAGGTATGAGGATAGGCTAACAGCAAACTATACCTCGGCCCTTCAACGACCGATATCCATATAAGGAAAGAGGCACGTTTGCCAATGCGCAGC'\n",
    "s2 = 'AACCGAATCCGCAACATGTTGGATCTCATCAGGCATATGTGTTATTTGGAGGAAAGACGCCAGTCAACTGATTTAATAAAATGATGCGGACTCATATACTCTGGTAGAGGTGGGGCTTTCCTAAGAAACTCTGTCAGCGGCTGATCTTGGCTCCACACTGGTACTCATGCAACTTCCGCCATTCGTGATTTACTCACTCGTCAACTGTCCGTTAATACGATTTACCATGAAGACACATCCCTGCTGGAAGGCATGCGAGTTTCCCTCAATTTCTGCTGGCGCGTTTCCCCCTCTTGACCCTAGCTTGTCATCAAAGCGGGAACTGAGTAATTATATCTCTCGGGCTTAGGAGTACTTCTCAGGGCGATATAAATAGGGCGAGGTCGGCTCACGCCGGAATGACCCTAGGAAGCACGATGGGTTGGGATGCATAGTTTACGTAATAGGACACAGCGCTCGGATATGTTTCTGGTGGGCTAGACTGAGCAGGAGACTAATTCTCGGGGCATTTCCGATCTCGACTAGCCTCTAGAAGCGTGCGTATCGGGTGACCTCAGGACTGTAGATATTATGAAGGCTCGCCAGTGACGGCCTGACCACGGTAAGTCTCTTCCTATTTCCCCAACTTGAGAAGCCTCTGGGGGCGGCCATTAGCCAGTTAAGGGTGGTAAAGCAACATTACGGCCGCTAGAGCGGGCCCGCGGCGATCCTGGCCATTCGTAAGCCAGAGTCTTACTCTACCCGGTACGACAAGGGATCGAGTGGTAGAGCACCACGCAACGAAGATGTATCCGGGGGATTTCCAAACAGTGATATTAGGTTCACTCCAGCTCGTGGCGTAGCTCAGAAGTCCTGATTAATCCTTCTGGGCTTACACTCATGAGGGCATATGTTCTTCATAGGGACAAACTAAACCTTAGCTCTTTTTAAAACAGCATGCATATTAAGTTACCAATACGTATAGAAATAACCCGC'\n",
    "res = hamm(s1, s2)\n",
    "print (res)"
   ]
  },
  {
   "cell_type": "code",
   "execution_count": 3,
   "metadata": {
    "collapsed": false
   },
   "outputs": [
    {
     "data": {
      "text/plain": [
       "0.7833333333333333"
      ]
     },
     "execution_count": 3,
     "metadata": {},
     "output_type": "execute_result"
    }
   ],
   "source": [
    "def iprb(k, m, n):\n",
    "    dominant = 0\n",
    "    recessive = 0\n",
    "    \n",
    "    temp = (k + m + n)-1\n",
    "    \n",
    "    for h in range(k):\n",
    "        dominant += 4*temp\n",
    "        temp -= 1\n",
    "    for i in range(m):\n",
    "        dominant += 4*3/4*(temp-n)\n",
    "        recessive += 4*1/4*(temp-n)\n",
    "        dominant += 4*1/2*n\n",
    "        recessive += 4*1/2*n\n",
    "        temp -= 1\n",
    "    for j in range(n):\n",
    "        recessive += 4*temp\n",
    "        temp -= 1\n",
    "        \n",
    "    dom_per = dominant/(dominant + recessive)\n",
    "    return dom_per\n",
    "\n",
    "iprb(2, 2, 2)\n",
    "        \n",
    "        "
   ]
  },
  {
   "cell_type": "code",
   "execution_count": 9,
   "metadata": {
    "collapsed": false
   },
   "outputs": [
    {
     "name": "stdout",
     "output_type": "stream",
     "text": [
      "3 2 3 3\n"
     ]
    }
   ],
   "source": [
    "from Bio.Seq import Seq\n",
    "my_seq = Seq(\"AGTACACTGGT\")\n",
    "nucl_c = []\n",
    "nucl_c.append(my_seq.count(\"A\"))\n",
    "nucl_c.append(my_seq.count(\"C\"))\n",
    "nucl_c.append(my_seq.count(\"G\"))\n",
    "nucl_c.append(my_seq.count(\"T\"))\n",
    "print (*nucl_c)"
   ]
  },
  {
   "cell_type": "code",
   "execution_count": 13,
   "metadata": {
    "collapsed": false
   },
   "outputs": [
    {
     "name": "stdout",
     "output_type": "stream",
     "text": [
      "DNA recombination\n",
      "DNA repair\n",
      "DNA replication\n"
     ]
    }
   ],
   "source": [
    "from Bio import ExPASy\n",
    "from Bio import SwissProt\n",
    "handle = ExPASy.get_sprot_raw('Q5SLP9')\n",
    "record = SwissProt.read(handle)\n",
    "for e in record.cross_references[:]:\n",
    "    if e[0] == 'GO':\n",
    "        if e[2][0] == 'P':\n",
    "            print (e[2][2:])"
   ]
  },
  {
   "cell_type": "code",
   "execution_count": null,
   "metadata": {
    "collapsed": true
   },
   "outputs": [],
   "source": []
  }
 ],
 "metadata": {
  "kernelspec": {
   "display_name": "Python [Root]",
   "language": "python",
   "name": "Python [Root]"
  },
  "language_info": {
   "codemirror_mode": {
    "name": "ipython",
    "version": 3
   },
   "file_extension": ".py",
   "mimetype": "text/x-python",
   "name": "python",
   "nbconvert_exporter": "python",
   "pygments_lexer": "ipython3",
   "version": "3.5.2"
  }
 },
 "nbformat": 4,
 "nbformat_minor": 0
}
