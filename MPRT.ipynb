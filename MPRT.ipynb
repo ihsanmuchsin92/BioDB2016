{
 "cells": [
  {
   "cell_type": "code",
   "execution_count": 1,
   "metadata": {
    "collapsed": false
   },
   "outputs": [
    {
     "name": "stdout",
     "output_type": "stream",
     "text": [
      "P10643_CO7_HUMAN\n",
      "202 754\n",
      "P02974_FMM1_NEIGO\n",
      "67 68 121\n",
      "Q8PDD7\n",
      "196 530\n",
      "O08537_ESR2_MOUSE\n",
      "17 55 407\n",
      "P02725_GLP_PIG\n",
      "16 19 39\n",
      "A3DF24\n",
      "178\n",
      "P01045_KNH2_BOVIN\n",
      "47 87 168 169 197 204 280\n",
      "P01588_EPO_HUMAN\n",
      "51 65 110\n",
      "P81428_FA10_TROCA\n",
      "254\n",
      "P01876_ALC1_HUMAN\n",
      "144 340\n",
      "B4S2L7\n",
      "33\n",
      "P07725_CD8A_RAT\n",
      "63\n"
     ]
    }
   ],
   "source": [
    "import re\n",
    "from collections import OrderedDict\n",
    "from urllib.request import urlopen\n",
    "\n",
    "\n",
    "def fastaseq_gen(filename):\n",
    "    with open(filename) as f:\n",
    "        for line in f:\n",
    "            uniprot_id = line.strip()\n",
    "\n",
    "            url = 'http://www.uniprot.org/uniprot/{}.fasta'.format(uniprot_id)\n",
    "            with urlopen(url) as f:\n",
    "                fasta_txt = f.read().decode('ascii')\n",
    "\n",
    "            yield (uniprot_id, ''.join(fasta_txt.split('\\n')[1:]))\n",
    "\n",
    "\n",
    "def find_motif(seq):\n",
    "    motif_re = re.compile(r'N[^P][ST][^P]')\n",
    "\n",
    "    positions, last_match = [], 0\n",
    "    while True:\n",
    "        match = motif_re.search(seq, last_match)\n",
    "        if not match:\n",
    "            break\n",
    "\n",
    "        last_match = match.start() + 1\n",
    "        positions.append(last_match)\n",
    "\n",
    "    return positions\n",
    "\n",
    "filename = 'rosalind_mprt.txt'\n",
    "for uniprot_id, seq in fastaseq_gen(filename):\n",
    "    motif_positions = find_motif(seq)\n",
    "    if motif_positions:\n",
    "        print(uniprot_id)\n",
    "        print(' '.join(str(pos) for pos in motif_positions))"
   ]
  },
  {
   "cell_type": "code",
   "execution_count": null,
   "metadata": {
    "collapsed": true
   },
   "outputs": [],
   "source": []
  }
 ],
 "metadata": {
  "kernelspec": {
   "display_name": "Python [Root]",
   "language": "python",
   "name": "Python [Root]"
  },
  "language_info": {
   "codemirror_mode": {
    "name": "ipython",
    "version": 3
   },
   "file_extension": ".py",
   "mimetype": "text/x-python",
   "name": "python",
   "nbconvert_exporter": "python",
   "pygments_lexer": "ipython3",
   "version": "3.5.2"
  }
 },
 "nbformat": 4,
 "nbformat_minor": 0
}
