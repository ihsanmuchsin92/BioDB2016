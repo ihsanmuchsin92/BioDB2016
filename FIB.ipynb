{
 "cells": [
  {
   "cell_type": "code",
   "execution_count": 1,
   "metadata": {
    "collapsed": true
   },
   "outputs": [],
   "source": [
    "#Ihsan Muchsin\n",
    "#Dynamic Programming\n",
    "\n",
    "def fib(infile, outfile):\n",
    "    '''\n",
    "    Given: 1) An input file containing positive integers n≤40 and k≤5. 2) The name of the output file\n",
    "    Return: The total number of rabbit pairs that will be present after n months, if we begin with 1 pair and in each generation, every pair of reproduction-age rabbits produces a litter of k rabbit pairs (default value is 1 pair), plus an output file containing the result\n",
    "    '''\n",
    "    n = None\n",
    "    k = None\n",
    "    with open(infile, 'r') as fin:\n",
    "        for line in fin:\n",
    "            line = line.strip()\n",
    "            n, k = line.split(' ')\n",
    "            n = int(n)\n",
    "            k = int(k)\n",
    "            \n",
    "    rabbit = [0]*n #list of the number of rabbit pair in each month from 1st month to the n-month. Initial value is 0\n",
    "    for i in range(n):\n",
    "        if i < 2: #start with 1 pair. need 1 month to be mature. So, in 2 months only 1 pair of rabbit\n",
    "            rabbit[i] = 1\n",
    "        else:\n",
    "            rabbit[i] = rabbit[i-1] + k*(rabbit[i-2]) #previous generation + children from the mature rabbit pair\n",
    "    \n",
    "    with open(outfile, 'w') as fout:\n",
    "        fout.write(str(rabbit[-1]))\n",
    "        \n",
    "    return rabbit[-1] #return the number of rabbit pair in n-month"
   ]
  },
  {
   "cell_type": "code",
   "execution_count": 2,
   "metadata": {
    "collapsed": false
   },
   "outputs": [
    {
     "name": "stdout",
     "output_type": "stream",
     "text": [
      "20444528200\n"
     ]
    }
   ],
   "source": [
    "infile = 'rosalind_fib.txt'\n",
    "outfile = 'fib_sol.txt'\n",
    "\n",
    "res = fib(infile, outfile)\n",
    "print (res)"
   ]
  },
  {
   "cell_type": "code",
   "execution_count": null,
   "metadata": {
    "collapsed": true
   },
   "outputs": [],
   "source": []
  }
 ],
 "metadata": {
  "anaconda-cloud": {},
  "kernelspec": {
   "display_name": "Python [conda root]",
   "language": "python",
   "name": "conda-root-py"
  },
  "language_info": {
   "codemirror_mode": {
    "name": "ipython",
    "version": 3
   },
   "file_extension": ".py",
   "mimetype": "text/x-python",
   "name": "python",
   "nbconvert_exporter": "python",
   "pygments_lexer": "ipython3",
   "version": "3.5.2"
  }
 },
 "nbformat": 4,
 "nbformat_minor": 0
}
