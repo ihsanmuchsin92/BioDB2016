{
 "cells": [
  {
   "cell_type": "code",
   "execution_count": 1,
   "metadata": {
    "collapsed": true
   },
   "outputs": [],
   "source": [
    "#Ihsan Muchsin\n",
    "\n",
    "from Bio import Entrez\n",
    "from Bio import SeqIO\n",
    "\n",
    "def frmt(infile, outfile):\n",
    "    '''\n",
    "    Given: 1) An input file containing a collection of n (n≤10) GenBank entry IDs. 2) The name of output file\n",
    "    Return: The shortest of the strings associated with the IDs in FASTA format. Plus an output file containing the result\n",
    "    '''\n",
    "    \n",
    "    with open(infile, 'r') as fin:\n",
    "        IDs = fin.read().strip().split() #get the list of IDs from input file\n",
    "        \n",
    "    Entrez.email = 'ihsanmuchsin@gmail.com'\n",
    "    with Entrez.efetch(db='nucleotide', id=IDs, rettype='fasta') as handle1:\n",
    "        records = list(SeqIO.parse(handle1, 'fasta')) #get the list of SeqIO objects in FASTA format\n",
    "    \n",
    "    #get list of index of the records which have minimum sequence length\n",
    "    [shortest_idxs] = [i for i in range(len(records)) if len(records[i]) == min([len(record.seq) for record in records])]\n",
    "    \n",
    "    with Entrez.efetch(db='nucleotide', id=IDs, rettype='fasta') as handle2:\n",
    "        shortest_seqs = handle2.read().strip().split('\\n\\n')[shortest_idxs]\n",
    "        \n",
    "    with open(outfile, 'w') as fout:\n",
    "        fout.write(shortest_seqs)\n",
    "    \n",
    "    return shortest_seqs"
   ]
  },
  {
   "cell_type": "code",
   "execution_count": 2,
   "metadata": {
    "collapsed": false
   },
   "outputs": [
    {
     "name": "stdout",
     "output_type": "stream",
     "text": [
      ">JQ712981.1 Megaselia abdita short gastrulation mRNA, partial cds\n",
      "ATGCCCTCCAGCTAATTGCGATGATCCCATTTTGCTACCAGGCAAATGCTGTAAAACATGCCCCGGAGAA\n",
      "AACAATACGGAAATGATTCAAGATCAAGACCCAACACCTTTCAACATCGAAGAAGAAGAGCGCAATATGA\n",
      "AACATTTCGCAGCTCTACTCACAGGAAAGACATCCCATTTCCTCCGGAGAGAAGATACTACTGTTTCTTC\n",
      "AATGCATAATCCAAATAATTTAATAGCCACCGGGCGTTTCAATTTTCAAAAGAAAAATCTCTACTATTCA\n",
      "TTCTACGTAAGTGCTAATAAACAAATGGGAAGACCAACAACAATACAATTTGTTAATGACGTCGGTACAA\n",
      "TATTAGAAGAACATAACTTAACAACATCGACAAATGGTCCCTTGAGTGTTTATGAGAAATCAACGGGAAA\n",
      "AATTTGTGGCGTATGGCGTCGCATACCGAAAGACTACAAACGATTACTACGAGATGGACGACCTCATGTC\n",
      "GTGTTATTATGGCGATCAACATTGCTTGACACTAAACAAGTTGAATTGGCGTTAGGTGGCAAAATTGATA\n",
      "AATACTGGGCGTTGTCCAGC\n"
     ]
    }
   ],
   "source": [
    "infile = 'rosalind_frmt.txt'\n",
    "outfile = 'frmt_sol.txt'\n",
    "\n",
    "res = frmt(infile, outfile)\n",
    "print(res)"
   ]
  },
  {
   "cell_type": "code",
   "execution_count": null,
   "metadata": {
    "collapsed": true
   },
   "outputs": [],
   "source": []
  }
 ],
 "metadata": {
  "anaconda-cloud": {},
  "kernelspec": {
   "display_name": "Python [Root]",
   "language": "python",
   "name": "Python [Root]"
  },
  "language_info": {
   "codemirror_mode": {
    "name": "ipython",
    "version": 3
   },
   "file_extension": ".py",
   "mimetype": "text/x-python",
   "name": "python",
   "nbconvert_exporter": "python",
   "pygments_lexer": "ipython3",
   "version": "3.5.2"
  }
 },
 "nbformat": 4,
 "nbformat_minor": 0
}
