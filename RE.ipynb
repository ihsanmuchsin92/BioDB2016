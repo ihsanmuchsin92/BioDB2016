{
 "cells": [
  {
   "cell_type": "code",
   "execution_count": 20,
   "metadata": {
    "collapsed": false
   },
   "outputs": [
    {
     "ename": "SyntaxError",
     "evalue": "EOL while scanning string literal (<ipython-input-20-10b3d8aa530f>, line 4)",
     "output_type": "error",
     "traceback": [
      "\u001b[1;36m  File \u001b[1;32m\"<ipython-input-20-10b3d8aa530f>\"\u001b[1;36m, line \u001b[1;32m4\u001b[0m\n\u001b[1;33m    generic_pattern_def = \"^(?P<subject_type>\\w+?) \\(\\ (?P<subject_namespace>\\w+?) \\:\\ (?P<subject_name>\\w+?) \\)\\ \\s (?P<interaction_type>\\w+?) \\s \\w*? (?P<object_type>\\w+?) \\(\\ (?P<object_namespace>\\w+?) \\:\\ (?P<object_name>\\w+?) \\)\\\"\u001b[0m\n\u001b[1;37m                                                                                                                                                                                                                                           ^\u001b[0m\n\u001b[1;31mSyntaxError\u001b[0m\u001b[1;31m:\u001b[0m EOL while scanning string literal\n"
     ]
    }
   ],
   "source": [
    "import re\n",
    "\n",
    "def belre(infile):\n",
    "    \n",
    "    generic_pattern_def = \"^(?P<subject_type>\\w+?) \\(\\ (?P<subject_namespace>\\w+?) \\:\\ (?P<subject_name>\\w+?) \\)\\ \\s (?P<interaction_type>\\w+?) \\s \\w*? (?P<object_type>\\w+?) \\(\\ (?P<object_namespace>\\w+?) \\:\\ (?P<object_name>\\w+?) \\)\\\"\n",
    "    \n",
    "    generic_pattern = re.compile(generic_pattern_def, re.I)\n",
    "    \n",
    "    for line in open(infile):\n",
    "        line = line.strip('\\n')\n",
    "        print (generic_pattern.match(line).group())\n",
    "\n",
    "infile = 'interactions.txt'\n",
    "belre(infile)\n",
    "    "
   ]
  },
  {
   "cell_type": "code",
   "execution_count": 43,
   "metadata": {
    "collapsed": false
   },
   "outputs": [
    {
     "ename": "AttributeError",
     "evalue": "'NoneType' object has no attribute 'groups'",
     "output_type": "error",
     "traceback": [
      "\u001b[1;31m---------------------------------------------------------------------------\u001b[0m",
      "\u001b[1;31mAttributeError\u001b[0m                            Traceback (most recent call last)",
      "\u001b[1;32m<ipython-input-43-cd3e7180d93f>\u001b[0m in \u001b[0;36m<module>\u001b[1;34m()\u001b[0m\n\u001b[0;32m      9\u001b[0m \u001b[1;32mfor\u001b[0m \u001b[0mline\u001b[0m \u001b[1;32min\u001b[0m \u001b[0mopen\u001b[0m\u001b[1;33m(\u001b[0m\u001b[0minfile\u001b[0m\u001b[1;33m)\u001b[0m\u001b[1;33m:\u001b[0m\u001b[1;33m\u001b[0m\u001b[0m\n\u001b[0;32m     10\u001b[0m     \u001b[0mline\u001b[0m \u001b[1;33m=\u001b[0m \u001b[0mline\u001b[0m\u001b[1;33m.\u001b[0m\u001b[0mstrip\u001b[0m\u001b[1;33m(\u001b[0m\u001b[1;34m'\\n'\u001b[0m\u001b[1;33m)\u001b[0m\u001b[1;33m\u001b[0m\u001b[0m\n\u001b[1;32m---> 11\u001b[1;33m     \u001b[0mprint\u001b[0m \u001b[1;33m(\u001b[0m\u001b[0mgeneric_pattern\u001b[0m\u001b[1;33m.\u001b[0m\u001b[0mmatch\u001b[0m\u001b[1;33m(\u001b[0m\u001b[0mline\u001b[0m\u001b[1;33m)\u001b[0m\u001b[1;33m.\u001b[0m\u001b[0mgroups\u001b[0m\u001b[1;33m(\u001b[0m\u001b[1;33m)\u001b[0m\u001b[1;33m)\u001b[0m\u001b[1;33m\u001b[0m\u001b[0m\n\u001b[0m\u001b[0;32m     12\u001b[0m \u001b[1;33m\u001b[0m\u001b[0m\n",
      "\u001b[1;31mAttributeError\u001b[0m: 'NoneType' object has no attribute 'groups'"
     ]
    }
   ],
   "source": [
    "import re\n",
    "\n",
    "infile = 'interactions.txt'\n",
    "    \n",
    "generic_pattern_def = \"^([a-z])\\(([A-Z]+):([a-zA-Z0-9]+)\\)\\s(->|-\\|)\\s([a-z])\\(([A-Z]+):([a-zA-Z0-9]+)\\)$\"\n",
    "    \n",
    "generic_pattern = re.compile(generic_pattern_def)\n",
    "    \n",
    "for line in open(infile):\n",
    "    line = line.strip('\\n')\n",
    "    print (generic_pattern.match(line).groups())\n",
    "    "
   ]
  },
  {
   "cell_type": "code",
   "execution_count": null,
   "metadata": {
    "collapsed": true
   },
   "outputs": [],
   "source": []
  }
 ],
 "metadata": {
  "kernelspec": {
   "display_name": "Python [Root]",
   "language": "python",
   "name": "Python [Root]"
  },
  "language_info": {
   "codemirror_mode": {
    "name": "ipython",
    "version": 3
   },
   "file_extension": ".py",
   "mimetype": "text/x-python",
   "name": "python",
   "nbconvert_exporter": "python",
   "pygments_lexer": "ipython3",
   "version": "3.5.2"
  }
 },
 "nbformat": 4,
 "nbformat_minor": 0
}
